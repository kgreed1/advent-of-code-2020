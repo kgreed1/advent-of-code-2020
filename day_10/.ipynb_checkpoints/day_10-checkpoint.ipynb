{
 "cells": [
  {
   "cell_type": "markdown",
   "metadata": {},
   "source": [
    "<body>\n",
    "\n",
    "<main>\n",
    "<script>window.addEventListener('click', function(e,s,r){if(e.target.nodeName==='CODE'&&e.detail===3){s=window.getSelection();s.removeAllRanges();r=document.createRange();r.selectNodeContents(e.target);s.addRange(r);}});</script>\n",
    "<article class=\"day-desc\"><h2>--- Day 10: Adapter Array ---</h2><p>Patched into the aircraft's data port, you discover weather forecasts of a massive tropical storm. Before you can figure out whether it will impact your vacation plans, however, your device suddenly turns off!</p>\n",
    "<p>Its battery is dead.</p>\n",
    "<p>You'll need to plug it in. There's only one problem: the charging outlet near your seat produces the wrong number of <em>jolts</em>. Always prepared, you make a list of all of the joltage adapters in your bag.</p>\n",
    "<p>Each of your joltage adapters is rated for a specific <em>output joltage</em> (your puzzle input). Any given adapter can take an input <code>1</code>, <code>2</code>, or <code>3</code> jolts <em>lower</em> than its rating and still produce its rated output joltage.</p>\n",
    "<p>In addition, your device has a built-in joltage adapter rated for <em><code>3</code> jolts higher</em> than the highest-rated adapter in your bag. (If your adapter list were <code>3</code>, <code>9</code>, and <code>6</code>, your device's built-in adapter would be rated for <code>12</code> jolts.)</p>\n",
    "<p>Treat the charging outlet near your seat as having an effective joltage rating of <code>0</code>.</p>\n",
    "<p>Since you have some time to kill, you might as well test all of your adapters. Wouldn't want to get to your resort and realize you can't even charge your device!</p>\n",
    "<p>If you <em>use every adapter in your bag</em> at once, what is the distribution of joltage differences between the charging outlet, the adapters, and your device?</p>\n",
    "<p>For example, suppose that in your bag, you have adapters with the following joltage ratings:</p>\n",
    "<pre><code>16\n",
    "10\n",
    "15\n",
    "5\n",
    "1\n",
    "11\n",
    "7\n",
    "19\n",
    "6\n",
    "12\n",
    "4\n",
    "</code></pre>\n",
    "<p>With these adapters, your device's built-in joltage adapter would be rated for <code>19 + 3 = <em>22</em></code> jolts, 3 higher than the highest-rated adapter.</p>\n",
    "<p>Because adapters can only connect to a source 1-3 jolts lower than its rating, in order to use every adapter, you'd need to choose them like this:</p>\n",
    "<ul>\n",
    "<li>The charging outlet has an effective rating of <code>0</code> jolts, so the only adapters that could connect to it directly would need to have a joltage rating of <code>1</code>, <code>2</code>, or <code>3</code> jolts. Of these, only one you have is an adapter rated <code>1</code> jolt (difference of <em><code>1</code></em>).</li>\n",
    "<li>From your <code>1</code>-jolt rated adapter, the only choice is your <code>4</code>-jolt rated adapter (difference of <em><code>3</code></em>).</li>\n",
    "<li>From the <code>4</code>-jolt rated adapter, the adapters rated <code>5</code>, <code>6</code>, or <code>7</code> are valid choices. However, in order to not skip any adapters, you have to pick the adapter rated <code>5</code> jolts (difference of <em><code>1</code></em>).</li>\n",
    "<li>Similarly, the next choices would need to be the adapter rated <code>6</code> and then the adapter rated <code>7</code> (with difference of <em><code>1</code></em> and <em><code>1</code></em>).</li>\n",
    "<li>The only adapter that works with the <code>7</code>-jolt rated adapter is the one rated <code>10</code> jolts (difference of <em><code>3</code></em>).</li>\n",
    "<li>From <code>10</code>, the choices are <code>11</code> or <code>12</code>; choose <code>11</code> (difference of <em><code>1</code></em>) and then <code>12</code> (difference of <em><code>1</code></em>).</li>\n",
    "<li>After <code>12</code>, only valid adapter has a rating of <code>15</code> (difference of <em><code>3</code></em>), then <code>16</code> (difference of <em><code>1</code></em>), then <code>19</code> (difference of <em><code>3</code></em>).</li>\n",
    "<li>Finally, your device's built-in adapter is always 3 higher than the highest adapter, so its rating is <code>22</code> jolts (always a difference of <em><code>3</code></em>).</li>\n",
    "</ul>\n",
    "<p>In this example, when using every adapter, there are <em><code>7</code></em> differences of 1 jolt and <em><code>5</code></em> differences of 3 jolts.</p>\n",
    "<p>Here is a larger example:</p>\n",
    "<pre><code>28\n",
    "33\n",
    "18\n",
    "42\n",
    "31\n",
    "14\n",
    "46\n",
    "20\n",
    "48\n",
    "47\n",
    "24\n",
    "23\n",
    "49\n",
    "45\n",
    "19\n",
    "38\n",
    "39\n",
    "11\n",
    "1\n",
    "32\n",
    "25\n",
    "35\n",
    "8\n",
    "17\n",
    "7\n",
    "9\n",
    "4\n",
    "2\n",
    "34\n",
    "10\n",
    "3\n",
    "</code></pre>\n",
    "<p>In this larger example, in a chain that uses all of the adapters, there are <em><code>22</code></em> differences of 1 jolt and <em><code>10</code></em> differences of 3 jolts.</p>\n",
    "<p>Find a chain that uses all of your adapters to connect the charging outlet to your device's built-in adapter and count the joltage differences between the charging outlet, the adapters, and your device. <em>What is the number of 1-jolt differences multiplied by the number of 3-jolt differences?</em></p>\n",
    "</article>\n",
    "<p>Your puzzle answer was <code>2240</code>.\n",
    "    .</p><article class=\"day-desc\">"
   ]
  },
  {
   "cell_type": "code",
   "execution_count": 11,
   "metadata": {},
   "outputs": [],
   "source": [
    "with open('input.txt') as input_file:\n",
    "    adapters = list(map(int, input_file.readlines()))"
   ]
  },
  {
   "cell_type": "code",
   "execution_count": 12,
   "metadata": {},
   "outputs": [],
   "source": [
    "adapters.sort()\n",
    "joltage = 0\n",
    "difference_counts = dict.fromkeys([1, 3], 0)\n",
    "\n",
    "for i in range(len(adapters)):\n",
    "    difference = adapters[i] - joltage\n",
    "    joltage += difference\n",
    "    difference_counts[difference] += 1\n",
    "    \n",
    "difference_counts[3] += 1 # for your device"
   ]
  },
  {
   "cell_type": "code",
   "execution_count": 13,
   "metadata": {
    "scrolled": true
   },
   "outputs": [
    {
     "name": "stdout",
     "output_type": "stream",
     "text": [
      "Answer is 2240\n"
     ]
    }
   ],
   "source": [
    "answer = difference_counts[1] * difference_counts[3]\n",
    "print('Answer is %s' % answer)"
   ]
  },
  {
   "cell_type": "markdown",
   "metadata": {},
   "source": [
    "<h2 id=\"part2\">--- Part Two ---</h2><p>To completely determine whether you have enough adapters, you'll need to figure out how many different ways they can be arranged. Every arrangement needs to connect the charging outlet to your device. The previous rules about when adapters can successfully connect still apply.</p>\n",
    "<p>The first example above (the one that starts with <code>16</code>, <code>10</code>, <code>15</code>) supports the following arrangements:</p>\n",
    "<pre><code>(0), 1, 4, 5, 6, 7, 10, 11, 12, 15, 16, 19, (22)\n",
    "(0), 1, 4, 5, 6, 7, 10, 12, 15, 16, 19, (22)\n",
    "(0), 1, 4, 5, 7, 10, 11, 12, 15, 16, 19, (22)\n",
    "(0), 1, 4, 5, 7, 10, 12, 15, 16, 19, (22)\n",
    "(0), 1, 4, 6, 7, 10, 11, 12, 15, 16, 19, (22)\n",
    "(0), 1, 4, 6, 7, 10, 12, 15, 16, 19, (22)\n",
    "(0), 1, 4, 7, 10, 11, 12, 15, 16, 19, (22)\n",
    "(0), 1, 4, 7, 10, 12, 15, 16, 19, (22)\n",
    "</code></pre>\n",
    "<p>(The charging outlet and your device's built-in adapter are shown in parentheses.) Given the adapters from the first example, the total number of arrangements that connect the charging outlet to your device is <em><code>8</code></em>.</p>\n",
    "<p>The second example above (the one that starts with <code>28</code>, <code>33</code>, <code>18</code>) has many arrangements. Here are a few:</p>\n",
    "<pre><code>(0), 1, 2, 3, 4, 7, 8, 9, 10, 11, 14, 17, 18, 19, 20, 23, 24, 25, 28, 31,\n",
    "32, 33, 34, 35, 38, 39, 42, 45, 46, 47, 48, 49, (52)\n",
    "\n",
    "(0), 1, 2, 3, 4, 7, 8, 9, 10, 11, 14, 17, 18, 19, 20, 23, 24, 25, 28, 31,\n",
    "32, 33, 34, 35, 38, 39, 42, 45, 46, 47, 49, (52)\n",
    "\n",
    "(0), 1, 2, 3, 4, 7, 8, 9, 10, 11, 14, 17, 18, 19, 20, 23, 24, 25, 28, 31,\n",
    "32, 33, 34, 35, 38, 39, 42, 45, 46, 48, 49, (52)\n",
    "\n",
    "(0), 1, 2, 3, 4, 7, 8, 9, 10, 11, 14, 17, 18, 19, 20, 23, 24, 25, 28, 31,\n",
    "32, 33, 34, 35, 38, 39, 42, 45, 46, 49, (52)\n",
    "\n",
    "(0), 1, 2, 3, 4, 7, 8, 9, 10, 11, 14, 17, 18, 19, 20, 23, 24, 25, 28, 31,\n",
    "32, 33, 34, 35, 38, 39, 42, 45, 47, 48, 49, (52)\n",
    "\n",
    "(0), 3, 4, 7, 10, 11, 14, 17, 20, 23, 25, 28, 31, 34, 35, 38, 39, 42, 45,\n",
    "46, 48, 49, (52)\n",
    "\n",
    "(0), 3, 4, 7, 10, 11, 14, 17, 20, 23, 25, 28, 31, 34, 35, 38, 39, 42, 45,\n",
    "46, 49, (52)\n",
    "\n",
    "(0), 3, 4, 7, 10, 11, 14, 17, 20, 23, 25, 28, 31, 34, 35, 38, 39, 42, 45,\n",
    "47, 48, 49, (52)\n",
    "\n",
    "(0), 3, 4, 7, 10, 11, 14, 17, 20, 23, 25, 28, 31, 34, 35, 38, 39, 42, 45,\n",
    "47, 49, (52)\n",
    "\n",
    "(0), 3, 4, 7, 10, 11, 14, 17, 20, 23, 25, 28, 31, 34, 35, 38, 39, 42, 45,\n",
    "48, 49, (52)\n",
    "</code></pre>\n",
    "<p>In total, this set of adapters can connect the charging outlet to your device in <em><code>19208</code></em> distinct arrangements.</p>\n",
    "<p>You glance back down at your bag and try to remember why you brought so many adapters; there must be <em>more than a trillion</em> valid ways to arrange them! Surely, there must be <span title=\"Definitely itertools.\">an efficient way</span> to count the arrangements.</p>\n",
    "<p><em>What is the total number of distinct ways you can arrange the adapters to connect the charging outlet to your device?</em></p>\n",
    "</article>\n",
    "<p>Your puzzle answer was <code>99214346656768</code>.</p><p class=\"day-success\">Both parts of this puzzle are complete! They provide two gold stars: **</p>"
   ]
  },
  {
   "cell_type": "markdown",
   "metadata": {},
   "source": [
    "![title](working.png)"
   ]
  },
  {
   "cell_type": "code",
   "execution_count": 14,
   "metadata": {},
   "outputs": [],
   "source": [
    "def count_paths(adapters):\n",
    "    adapters.sort()\n",
    "    \n",
    "    # add the charging outlet\n",
    "    adapters.insert(0,0)\n",
    "    \n",
    "    node_counts = [0] * len(adapters)\n",
    "    node_counts[0] = 1\n",
    "    \n",
    "    for i,node in enumerate(adapters):\n",
    "        # each node could potentially link to three following it, we identify these\n",
    "        potential_children = adapters[i+1:i+4]\n",
    "        children = [child for child in potential_children if child - node <=3]\n",
    "        \n",
    "        # propagate forward the node counts\n",
    "        for j,child in enumerate(children):\n",
    "            node_counts[i + j + 1] += node_counts[i]\n",
    "    \n",
    "    return node_counts[-1]"
   ]
  },
  {
   "cell_type": "code",
   "execution_count": 17,
   "metadata": {
    "scrolled": true
   },
   "outputs": [
    {
     "name": "stdout",
     "output_type": "stream",
     "text": [
      "8\n",
      "19208\n"
     ]
    }
   ],
   "source": [
    "demo_input = [16,10,15,5,1,11,7,19,6,12,4]\n",
    "\n",
    "larger_demo_input = [28, 33,18,42,31,14,46,20,48,47,24,23,49,45,19,38,39,11,1,32,25,35,8,17,7,9,4,2,34,10,3]\n",
    "\n",
    "print(count_paths(demo_input))\n",
    "print(count_paths(larger_demo_input))"
   ]
  },
  {
   "cell_type": "code",
   "execution_count": 16,
   "metadata": {},
   "outputs": [
    {
     "name": "stdout",
     "output_type": "stream",
     "text": [
      "There are 99214346656768 distinct arrangements\n"
     ]
    }
   ],
   "source": [
    "distinct_arrangements = count_paths(adapters)\n",
    "print('There are %s distinct arrangements' % distinct_arrangements)"
   ]
  }
 ],
 "metadata": {
  "kernelspec": {
   "display_name": "Python 3",
   "language": "python",
   "name": "python3"
  },
  "language_info": {
   "codemirror_mode": {
    "name": "ipython",
    "version": 3
   },
   "file_extension": ".py",
   "mimetype": "text/x-python",
   "name": "python",
   "nbconvert_exporter": "python",
   "pygments_lexer": "ipython3",
   "version": "3.7.6"
  }
 },
 "nbformat": 4,
 "nbformat_minor": 4
}
