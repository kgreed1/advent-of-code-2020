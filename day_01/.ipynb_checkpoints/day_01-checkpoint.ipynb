{
 "cells": [
  {
   "cell_type": "markdown",
   "metadata": {},
   "source": [
    "<main>\n",
    "<script>window.addEventListener('click', function(e,s,r){if(e.target.nodeName==='CODE'&&e.detail===3){s=window.getSelection();s.removeAllRanges();r=document.createRange();r.selectNodeContents(e.target);s.addRange(r);}});</script>\n",
    "<article class=\"day-desc\"><h2>--- Day 1: Report Repair ---</h2><p>After saving Christmas <a href=\"/events\">five years in a row</a>, you've decided to take a vacation at a nice resort on a tropical island. <span title=\"WHAT COULD GO WRONG\">Surely</span>, Christmas will go on without you.</p>\n",
    "<p>The tropical island has its own currency and is entirely cash-only.  The gold coins used there have a little picture of a starfish; the locals just call them <em class=\"star\">stars</em>. None of the currency exchanges seem to have heard of them, but somehow, you'll need to find fifty of these coins by the time you arrive so you can pay the deposit on your room.</p>\n",
    "<p>To save your vacation, you need to get all <em class=\"star\">fifty stars</em> by December 25th.</p>\n",
    "<p>Collect stars by solving puzzles.  Two puzzles will be made available on each day in the Advent calendar; the second puzzle is unlocked when you complete the first.  Each puzzle grants <em class=\"star\">one star</em>. Good luck!</p>\n",
    "<p>Before you leave, the Elves in accounting just need you to fix your <em>expense report</em> (your puzzle input); apparently, something isn't quite adding up.</p>\n",
    "<p>Specifically, they need you to <em>find the two entries that sum to <code>2020</code></em> and then multiply those two numbers together.</p>\n",
    "<p>For example, suppose your expense report contained the following:</p>\n",
    "<pre><code>1721\n",
    "979\n",
    "366\n",
    "299\n",
    "675\n",
    "1456\n",
    "</code></pre>\n",
    "<p>In this list, the two entries that sum to <code>2020</code> are <code>1721</code> and <code>299</code>. Multiplying them together produces <code>1721 * 299 = 514579</code>, so the correct answer is <code><em>514579</em></code>.</p>\n",
    "<p>Of course, your expense report is much larger. <em>Find the two entries that sum to <code>2020</code>; what do you get if you multiply them together?</em></p>\n",
    "</article>\n",
    "<p>Your puzzle answer was <code>252724</code>."
   ]
  },
  {
   "cell_type": "code",
   "execution_count": 22,
   "metadata": {},
   "outputs": [],
   "source": [
    "with open('input.txt') as input_file:\n",
    "    input = list(map(int, input_file.readlines()))\n",
    "    \n",
    "test_list = [1721,979,366,299,675,1456]"
   ]
  },
  {
   "cell_type": "code",
   "execution_count": 23,
   "metadata": {},
   "outputs": [],
   "source": [
    "def find_pair_that_sum_to_target(numbers, target):\n",
    "    #presumably python's sort function is pretty efficient\n",
    "    numbers.sort()\n",
    "    \n",
    "    #remaining implementation is O(n)\n",
    "    a = 0\n",
    "    b = len(numbers) - 1\n",
    "    while a <= b:\n",
    "        current_sum = numbers[a] + numbers[b]\n",
    "        if current_sum > target:\n",
    "            b -= 1\n",
    "        elif current_sum < target:\n",
    "            a += 1\n",
    "        else:\n",
    "            return numbers[a], numbers[b]\n",
    "    raise Exception(\"No pair in your list sums to the target\")"
   ]
  },
  {
   "cell_type": "code",
   "execution_count": 24,
   "metadata": {},
   "outputs": [
    {
     "name": "stdout",
     "output_type": "stream",
     "text": [
      "514579\n"
     ]
    }
   ],
   "source": [
    "a,b = find_pair_that_sum_to_target(test_list, 2020)\n",
    "print(a * b)"
   ]
  },
  {
   "cell_type": "code",
   "execution_count": 25,
   "metadata": {},
   "outputs": [
    {
     "name": "stdout",
     "output_type": "stream",
     "text": [
      "252724\n"
     ]
    }
   ],
   "source": [
    "a,b = find_pair_that_sum_to_target(input, 2020)\n",
    "print(a * b)"
   ]
  },
  {
   "cell_type": "markdown",
   "metadata": {},
   "source": [
    "</p><article class=\"day-desc\"><h2 id=\"part2\">--- Part Two ---</h2><p>The Elves in accounting are thankful for your help; one of them even offers you a starfish coin they had left over from a past vacation. They offer you a second one if you can find <em>three</em> numbers in your expense report that meet the same criteria.</p>\n",
    "<p>Using the above example again, the three entries that sum to <code>2020</code> are <code>979</code>, <code>366</code>, and <code>675</code>. Multiplying them together produces the answer, <code><em>241861950</em></code>.</p>\n",
    "<p>In your expense report, <em>what is the product of the three entries that sum to <code>2020</code>?</em></p>\n",
    "</article>\n",
    "<p>Your puzzle answer was <code>276912720</code>.</p><p class=\"day-success\">Both parts of this puzzle are complete! They provide two gold stars: **</p>"
   ]
  },
  {
   "cell_type": "code",
   "execution_count": 36,
   "metadata": {},
   "outputs": [],
   "source": [
    "def find_triple_that_sum_to_target(numbers, target):\n",
    "\n",
    "    \n",
    "    for i,a in enumerate(numbers):\n",
    "        secondary_target = target - a\n",
    "        try:\n",
    "            b,c = find_pair_that_sum_to_target(numbers[i+1:],secondary_target)\n",
    "            return a,b,c\n",
    "        except:\n",
    "            continue\n",
    "    \n",
    "    raise Exception(\"No triple in your list that sums to the target\")"
   ]
  },
  {
   "cell_type": "code",
   "execution_count": 37,
   "metadata": {},
   "outputs": [
    {
     "name": "stdout",
     "output_type": "stream",
     "text": [
      "241861950\n"
     ]
    }
   ],
   "source": [
    "a,b,c = find_triple_that_sum_to_target(test_list, 2020)\n",
    "print(a * b * c)"
   ]
  },
  {
   "cell_type": "code",
   "execution_count": 38,
   "metadata": {},
   "outputs": [
    {
     "name": "stdout",
     "output_type": "stream",
     "text": [
      "276912720\n"
     ]
    }
   ],
   "source": [
    "a,b,c = find_triple_that_sum_to_target(input, 2020)\n",
    "print(a * b * c)"
   ]
  }
 ],
 "metadata": {
  "kernelspec": {
   "display_name": "Python 3",
   "language": "python",
   "name": "python3"
  },
  "language_info": {
   "codemirror_mode": {
    "name": "ipython",
    "version": 3
   },
   "file_extension": ".py",
   "mimetype": "text/x-python",
   "name": "python",
   "nbconvert_exporter": "python",
   "pygments_lexer": "ipython3",
   "version": "3.7.6"
  }
 },
 "nbformat": 4,
 "nbformat_minor": 4
}
