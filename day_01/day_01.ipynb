{
 "cells": [
  {
   "cell_type": "markdown",
   "metadata": {},
   "source": [
    "## Data"
   ]
  },
  {
   "cell_type": "code",
   "execution_count": 22,
   "metadata": {},
   "outputs": [],
   "source": [
    "with open('input.txt') as input_file:\n",
    "    input = list(map(int, input_file.readlines()))\n",
    "    \n",
    "test_list = [1721,979,366,299,675,1456]"
   ]
  },
  {
   "cell_type": "markdown",
   "metadata": {},
   "source": [
    "## Part 1"
   ]
  },
  {
   "cell_type": "code",
   "execution_count": 23,
   "metadata": {},
   "outputs": [],
   "source": [
    "def find_pair_that_sum_to_target(numbers, target):\n",
    "    #presumably python's sort function is pretty efficient\n",
    "    numbers.sort()\n",
    "    \n",
    "    #remaining implementation is O(n)\n",
    "    a = 0\n",
    "    b = len(numbers) - 1\n",
    "    while a <= b:\n",
    "        current_sum = numbers[a] + numbers[b]\n",
    "        if current_sum > target:\n",
    "            b -= 1\n",
    "        elif current_sum < target:\n",
    "            a += 1\n",
    "        else:\n",
    "            return numbers[a], numbers[b]\n",
    "    raise Exception(\"No pair in your list sums to the target\")"
   ]
  },
  {
   "cell_type": "code",
   "execution_count": 24,
   "metadata": {},
   "outputs": [
    {
     "name": "stdout",
     "output_type": "stream",
     "text": [
      "514579\n"
     ]
    }
   ],
   "source": [
    "a,b = find_pair_that_sum_to_target(test_list, 2020)\n",
    "print(a * b)"
   ]
  },
  {
   "cell_type": "code",
   "execution_count": 25,
   "metadata": {},
   "outputs": [
    {
     "name": "stdout",
     "output_type": "stream",
     "text": [
      "252724\n"
     ]
    }
   ],
   "source": [
    "a,b = find_pair_that_sum_to_target(input, 2020)\n",
    "print(a * b)"
   ]
  },
  {
   "cell_type": "markdown",
   "metadata": {},
   "source": [
    "## Part 2"
   ]
  },
  {
   "cell_type": "code",
   "execution_count": 36,
   "metadata": {},
   "outputs": [],
   "source": [
    "def find_triple_that_sum_to_target(numbers, target):\n",
    "\n",
    "    \n",
    "    for i,a in enumerate(numbers):\n",
    "        secondary_target = target - a\n",
    "        try:\n",
    "            b,c = find_pair_that_sum_to_target(numbers[i+1:],secondary_target)\n",
    "            return a,b,c\n",
    "        except:\n",
    "            continue\n",
    "    \n",
    "    raise Exception(\"No triple in your list that sums to the target\")"
   ]
  },
  {
   "cell_type": "code",
   "execution_count": 37,
   "metadata": {},
   "outputs": [
    {
     "name": "stdout",
     "output_type": "stream",
     "text": [
      "241861950\n"
     ]
    }
   ],
   "source": [
    "a,b,c = find_triple_that_sum_to_target(test_list, 2020)\n",
    "print(a * b * c)"
   ]
  },
  {
   "cell_type": "code",
   "execution_count": 38,
   "metadata": {},
   "outputs": [
    {
     "name": "stdout",
     "output_type": "stream",
     "text": [
      "276912720\n"
     ]
    }
   ],
   "source": [
    "a,b,c = find_triple_that_sum_to_target(input, 2020)\n",
    "print(a * b * c)"
   ]
  },
  {
   "cell_type": "code",
   "execution_count": null,
   "metadata": {},
   "outputs": [],
   "source": []
  }
 ],
 "metadata": {
  "kernelspec": {
   "display_name": "Python 3",
   "language": "python",
   "name": "python3"
  },
  "language_info": {
   "codemirror_mode": {
    "name": "ipython",
    "version": 3
   },
   "file_extension": ".py",
   "mimetype": "text/x-python",
   "name": "python",
   "nbconvert_exporter": "python",
   "pygments_lexer": "ipython3",
   "version": "3.7.6"
  }
 },
 "nbformat": 4,
 "nbformat_minor": 4
}
