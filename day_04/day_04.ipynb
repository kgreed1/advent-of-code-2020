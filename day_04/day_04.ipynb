{
 "cells": [
  {
   "cell_type": "code",
   "execution_count": 50,
   "metadata": {},
   "outputs": [],
   "source": [
    "with open('input.txt') as input_file:\n",
    "    input = input_file.read()\n",
    "    passports = input.split('\\n\\n')"
   ]
  },
  {
   "cell_type": "markdown",
   "metadata": {},
   "source": [
    "## Part 1"
   ]
  },
  {
   "cell_type": "code",
   "execution_count": 51,
   "metadata": {},
   "outputs": [],
   "source": [
    "def data_preprocessing(passports):\n",
    "    preprocessed_passports = []\n",
    "    \n",
    "    for passport in passports:\n",
    "        passport = passport.split()\n",
    "        \n",
    "        passport_dict = {}\n",
    "        for entry in passport:\n",
    "            key,value = entry.split(':')\n",
    "            passport_dict[key] = value\n",
    "            \n",
    "        preprocessed_passports.append(passport_dict)\n",
    "        \n",
    "    return preprocessed_passports"
   ]
  },
  {
   "cell_type": "code",
   "execution_count": 52,
   "metadata": {},
   "outputs": [],
   "source": [
    "passports = data_preprocessing(passports)"
   ]
  },
  {
   "cell_type": "code",
   "execution_count": 53,
   "metadata": {},
   "outputs": [],
   "source": [
    "def check_field_presence(passport):\n",
    "    if len(passport) == 8:\n",
    "        return True\n",
    "    elif len(passport) == 7 and 'cid' not in passport.keys():\n",
    "        return True\n",
    "    else:\n",
    "        return False"
   ]
  },
  {
   "cell_type": "code",
   "execution_count": 54,
   "metadata": {},
   "outputs": [
    {
     "name": "stdout",
     "output_type": "stream",
     "text": [
      "There are 230 passports with the right fields\n"
     ]
    }
   ],
   "source": [
    "valid_passports = [p for p in passports if check_field_presence(p)]\n",
    "print('There are %d passports with the right fields' % len(valid_passports))"
   ]
  },
  {
   "cell_type": "markdown",
   "metadata": {},
   "source": [
    "## Part 2"
   ]
  },
  {
   "cell_type": "code",
   "execution_count": 105,
   "metadata": {},
   "outputs": [],
   "source": [
    "import re\n",
    "\n",
    "def in_range(x, a, b):\n",
    "    return int(x) >= a and int(x) <= b\n",
    "\n",
    "def digits(x, required):\n",
    "    p = re.compile('\\d{' + str(required)+ '}$')\n",
    "    return bool(p.match(str(x)))"
   ]
  },
  {
   "cell_type": "code",
   "execution_count": 103,
   "metadata": {},
   "outputs": [],
   "source": [
    "def check_field_values(passport):\n",
    "    \n",
    "    byr = passport['byr']\n",
    "    valid_byr = digits(byr,4) and in_range(byr,1920,2002)\n",
    "    if not valid_byr: return False\n",
    "    \n",
    "    iyr = passport['iyr']\n",
    "    valid_iyr = digits(iyr,4) and in_range(iyr,2010,2020)\n",
    "    if not valid_iyr: return False\n",
    "    \n",
    "    eyr = passport['eyr']\n",
    "    valid_eyr = digits(eyr,4) and in_range(eyr,2020,2030)\n",
    "    if not valid_eyr: return False\n",
    "\n",
    "    height = passport['hgt']                                                            \n",
    "    height_p = re.compile('\\d+(in|cm)$')\n",
    "    valid_hgt = bool(height_p.match(height)) and (height.endswith('cm') and in_range(int(height[:-2]), 150,193) or (height.endswith('in') and in_range(int(height[:-2]), 59,76)))\n",
    "    if not valid_hgt: return False\n",
    "                                                                \n",
    "    hcl = passport['hcl']\n",
    "    hcl_p = re.compile('#([0-9a-f]{6})')\n",
    "    valid_hcl = bool(hcl_p.match(hcl))\n",
    "    if not valid_hcl: return False\n",
    "                                                                \n",
    "    ecl = passport['ecl']\n",
    "    valid_ecl = ecl in ['amb','blu','brn','gry','grn','hzl','oth']\n",
    "    if not valid_ecl: return False\n",
    "                                                                \n",
    "    pid = passport['pid']\n",
    "    valid_pid = digits(pid,9)\n",
    "    if not valid_pid: return False\n",
    "\n",
    "    return True"
   ]
  },
  {
   "cell_type": "code",
   "execution_count": 104,
   "metadata": {},
   "outputs": [
    {
     "name": "stdout",
     "output_type": "stream",
     "text": [
      "There are 156 completely valid passports\n"
     ]
    }
   ],
   "source": [
    "valid_passports = [p for p in passports if check_field_presence(p)]\n",
    "valid_passports = [p for p in valid_passports if check_field_values(p)]\n",
    "print('There are %d completely valid passports' % len(valid_passports))"
   ]
  }
 ],
 "metadata": {
  "kernelspec": {
   "display_name": "Python 3",
   "language": "python",
   "name": "python3"
  },
  "language_info": {
   "codemirror_mode": {
    "name": "ipython",
    "version": 3
   },
   "file_extension": ".py",
   "mimetype": "text/x-python",
   "name": "python",
   "nbconvert_exporter": "python",
   "pygments_lexer": "ipython3",
   "version": "3.7.6"
  }
 },
 "nbformat": 4,
 "nbformat_minor": 4
}
