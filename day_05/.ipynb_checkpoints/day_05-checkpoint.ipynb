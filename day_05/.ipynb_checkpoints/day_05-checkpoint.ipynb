{
 "cells": [
  {
   "cell_type": "code",
   "execution_count": 44,
   "metadata": {},
   "outputs": [],
   "source": [
    "with open('input.txt') as input_file:\n",
    "    input = input_file.read().split()"
   ]
  },
  {
   "cell_type": "markdown",
   "metadata": {},
   "source": [
    "## Part 1"
   ]
  },
  {
   "cell_type": "code",
   "execution_count": 45,
   "metadata": {},
   "outputs": [],
   "source": [
    "def decode_row(row_code):\n",
    "    row = 0\n",
    "    for i,letter in enumerate(row_code):\n",
    "        if letter is 'B':\n",
    "            row += 2**(6 - i)\n",
    "    return row\n",
    "\n",
    "def decode_column(column_code):\n",
    "    column = 0\n",
    "    for i,letter in enumerate(column_code):\n",
    "        if letter is 'R':\n",
    "            column += 2**(2 - i)\n",
    "    return column\n",
    "\n",
    "def seat_id(code):\n",
    "    row = decode_row(code[:6])\n",
    "    column = decode_column(code[7:])\n",
    "    return row * 8 + column"
   ]
  },
  {
   "cell_type": "code",
   "execution_count": 46,
   "metadata": {},
   "outputs": [
    {
     "name": "stdout",
     "output_type": "stream",
     "text": [
      "357\n",
      "567\n",
      "119\n",
      "820\n"
     ]
    }
   ],
   "source": [
    "print(seat_id('FBFBBFFRLR'))\n",
    "print(seat_id('BFFFBBFRRR'))\n",
    "print(seat_id('FFFBBBFRRR'))\n",
    "print(seat_id('BBFFBBFRLL'))"
   ]
  },
  {
   "cell_type": "code",
   "execution_count": 47,
   "metadata": {},
   "outputs": [
    {
     "name": "stdout",
     "output_type": "stream",
     "text": [
      "The highest seat ID is 967\n"
     ]
    }
   ],
   "source": [
    "seat_ids = [seat_id(code) for code in input]\n",
    "max_seat_id = max(seat_ids)\n",
    "print('The highest seat ID is %d' % max_seat_id)"
   ]
  },
  {
   "cell_type": "code",
   "execution_count": 49,
   "metadata": {},
   "outputs": [],
   "source": [
    "codes_with_ids = zip(input, seat_ids)"
   ]
  },
  {
   "cell_type": "code",
   "execution_count": null,
   "metadata": {
    "collapsed": true
   },
   "outputs": [],
   "source": []
  }
 ],
 "metadata": {
  "kernelspec": {
   "display_name": "Python 3",
   "language": "python",
   "name": "python3"
  },
  "language_info": {
   "codemirror_mode": {
    "name": "ipython",
    "version": 3
   },
   "file_extension": ".py",
   "mimetype": "text/x-python",
   "name": "python",
   "nbconvert_exporter": "python",
   "pygments_lexer": "ipython3",
   "version": "3.7.6"
  }
 },
 "nbformat": 4,
 "nbformat_minor": 4
}
