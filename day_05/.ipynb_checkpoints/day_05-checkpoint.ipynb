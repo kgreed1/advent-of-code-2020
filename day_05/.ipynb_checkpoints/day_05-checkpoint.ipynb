{
 "cells": [
  {
   "cell_type": "code",
   "execution_count": 141,
   "metadata": {},
   "outputs": [],
   "source": [
    "with open('input.txt') as input_file:\n",
    "    codes = input_file.read().split()"
   ]
  },
  {
   "cell_type": "markdown",
   "metadata": {},
   "source": [
    "## Part 1"
   ]
  },
  {
   "cell_type": "code",
   "execution_count": 142,
   "metadata": {},
   "outputs": [],
   "source": [
    "def decode_row(row_code):\n",
    "    row = 0\n",
    "    for i,letter in enumerate(row_code):\n",
    "        if letter is 'B':\n",
    "            row += 2**(6 - i)\n",
    "    return row\n",
    "\n",
    "def decode_column(column_code):\n",
    "    column = 0\n",
    "    for i,letter in enumerate(column_code):\n",
    "        if letter is 'R':\n",
    "            column += 2**(2 - i)\n",
    "    return column\n",
    "\n",
    "def seat_id(code):\n",
    "    row = decode_row(code[:7])\n",
    "    column = decode_column(code[7:])\n",
    "    return row * 8 + column"
   ]
  },
  {
   "cell_type": "code",
   "execution_count": 143,
   "metadata": {},
   "outputs": [
    {
     "name": "stdout",
     "output_type": "stream",
     "text": [
      "357\n",
      "567\n",
      "119\n",
      "820\n"
     ]
    }
   ],
   "source": [
    "print(seat_id('FBFBBFFRLR'))\n",
    "print(seat_id('BFFFBBFRRR'))\n",
    "print(seat_id('FFFBBBFRRR'))\n",
    "print(seat_id('BBFFBBFRLL'))"
   ]
  },
  {
   "cell_type": "code",
   "execution_count": 144,
   "metadata": {},
   "outputs": [
    {
     "name": "stdout",
     "output_type": "stream",
     "text": [
      "The highest seat ID is 970\n"
     ]
    }
   ],
   "source": [
    "seat_ids = [seat_id(code) for code in codes]\n",
    "max_seat_id = max(seat_ids)\n",
    "print('The highest seat ID is %d' % max_seat_id)"
   ]
  },
  {
   "cell_type": "markdown",
   "metadata": {},
   "source": [
    "## Part 2"
   ]
  },
  {
   "cell_type": "code",
   "execution_count": 237,
   "metadata": {},
   "outputs": [],
   "source": [
    "def populate_plane(seat_ids, codes):\n",
    "    plane = [[0 for j in range(8)] for i in range(128)]\n",
    "    for (seat_id,code) in zip(seat_ids,codes):\n",
    "        row = decode_row(code[:7])\n",
    "        column = decode_column(code[7:])\n",
    "        plane[row][column] = seat_id\n",
    "    \n",
    "    return plane"
   ]
  },
  {
   "cell_type": "code",
   "execution_count": 250,
   "metadata": {},
   "outputs": [],
   "source": [
    "plane = populate_plane(seat_ids, codes)\n",
    "\n",
    "#flatten list\n",
    "plane = [seat for row in plane for seat in row]\n",
    "\n",
    "#remove leading and trailing 0s - the seats that do not exist\n",
    "while plane[0] == 0:\n",
    "    plane.pop(0)\n",
    "while plane[-1] == 0:\n",
    "    plane.pop(-1)"
   ]
  },
  {
   "cell_type": "code",
   "execution_count": 251,
   "metadata": {
    "scrolled": true
   },
   "outputs": [
    {
     "name": "stdout",
     "output_type": "stream",
     "text": [
      "My seat id is 587\n"
     ]
    }
   ],
   "source": [
    "seat_index = plane.index(0)\n",
    "seat_id = plane[seat_index - 1] + 1\n",
    "print('My seat id is %s' % seat_id)"
   ]
  }
 ],
 "metadata": {
  "kernelspec": {
   "display_name": "Python 3",
   "language": "python",
   "name": "python3"
  },
  "language_info": {
   "codemirror_mode": {
    "name": "ipython",
    "version": 3
   },
   "file_extension": ".py",
   "mimetype": "text/x-python",
   "name": "python",
   "nbconvert_exporter": "python",
   "pygments_lexer": "ipython3",
   "version": "3.7.6"
  }
 },
 "nbformat": 4,
 "nbformat_minor": 4
}
