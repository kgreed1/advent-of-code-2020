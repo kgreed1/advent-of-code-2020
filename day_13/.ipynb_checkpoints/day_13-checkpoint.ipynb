{
 "cells": [
  {
   "cell_type": "markdown",
   "metadata": {},
   "source": [
    "<main>\n",
    "<script>window.addEventListener('click', function(e,s,r){if(e.target.nodeName==='CODE'&&e.detail===3){s=window.getSelection();s.removeAllRanges();r=document.createRange();r.selectNodeContents(e.target);s.addRange(r);}});</script>\n",
    "<article class=\"day-desc\"><h2>--- Day 13: Shuttle Search ---</h2><p>Your ferry can make it safely to a nearby port, but it won't get much further. When you call to book another ship, you discover that no ships embark from that port to your vacation island. You'll need to get from the port to the nearest airport.</p>\n",
    "<p>Fortunately, a shuttle bus service is available to bring you from the sea port to the airport!  Each bus has an ID number that also indicates <em>how often the bus leaves for the airport</em>.</p>\n",
    "<p>Bus schedules are defined based on a <em>timestamp</em> that measures the <em>number of minutes</em> since some fixed reference point in the past. At timestamp <code>0</code>, every bus simultaneously departed from the sea port. After that, each bus travels to the airport, then various other locations, and finally returns to the sea port to repeat its journey forever.</p>\n",
    "<p>The time this loop takes a particular bus is also its ID number: the bus with ID <code>5</code> departs from the sea port at timestamps <code>0</code>, <code>5</code>, <code>10</code>, <code>15</code>, and so on. The bus with ID <code>11</code> departs at <code>0</code>, <code>11</code>, <code>22</code>, <code>33</code>, and so on. If you are there when the bus departs, you can ride that bus to the airport!</p>\n",
    "<p>Your notes (your puzzle input) consist of two lines.  The first line is your estimate of the <em>earliest timestamp you could depart on a bus</em>. The second line lists the bus IDs that are in service according to the shuttle company; entries that show <code>x</code> must be out of service, so you decide to ignore them.</p>\n",
    "<p>To save time once you arrive, your goal is to figure out <em>the earliest bus you can take to the airport</em>. (There will be exactly one such bus.)</p>\n",
    "<p>For example, suppose you have the following notes:</p>\n",
    "<pre><code>939\n",
    "7,13,x,x,59,x,31,19\n",
    "</code></pre>\n",
    "<p>Here, the earliest timestamp you could depart is <code>939</code>, and the bus IDs in service are <code>7</code>, <code>13</code>, <code>59</code>, <code>31</code>, and <code>19</code>. Near timestamp <code>939</code>, these bus IDs depart at the times marked <code>D</code>:</p>\n",
    "<pre><code>time   bus 7   bus 13  bus 59  bus 31  bus 19\n",
    "929      .       .       .       .       .\n",
    "930      .       .       .       D       .\n",
    "931      D       .       .       .       D\n",
    "932      .       .       .       .       .\n",
    "933      .       .       .       .       .\n",
    "934      .       .       .       .       .\n",
    "935      .       .       .       .       .\n",
    "936      .       D       .       .       .\n",
    "937      .       .       .       .       .\n",
    "938      D       .       .       .       .\n",
    "<em>939      .       .       .       .       .</em>\n",
    "940      .       .       .       .       .\n",
    "941      .       .       .       .       .\n",
    "942      .       .       .       .       .\n",
    "943      .       .       .       .       .\n",
    "<em>944      .       .       D       .       .</em>\n",
    "945      D       .       .       .       .\n",
    "946      .       .       .       .       .\n",
    "947      .       .       .       .       .\n",
    "948      .       .       .       .       .\n",
    "949      .       D       .       .       .\n",
    "</code></pre>\n",
    "<p>The earliest bus you could take is bus ID <code>59</code>. It doesn't depart until timestamp <code>944</code>, so you would need to wait <code>944 - 939 = 5</code> minutes before it departs. Multiplying the bus ID by the number of minutes you'd need to wait gives <em><code>295</code></em>.</p>\n",
    "<p><em>What is the ID of the earliest bus you can take to the airport multiplied by the number of minutes you'll need to wait for that bus?</em></p>\n",
    "</article>\n",
    "<p>Your puzzle answer was <code>2935</code>."
   ]
  },
  {
   "cell_type": "code",
   "execution_count": 264,
   "metadata": {},
   "outputs": [],
   "source": [
    "with open('input.txt') as input_file:\n",
    "    lines = input_file.read().split('\\n')"
   ]
  },
  {
   "cell_type": "code",
   "execution_count": 265,
   "metadata": {},
   "outputs": [],
   "source": [
    "earliest_departure = int(lines[0])\n",
    "buses = lines[1].split(',')\n",
    "running_buses = [int(bus) for bus in buses if bus != 'x']"
   ]
  },
  {
   "cell_type": "code",
   "execution_count": 266,
   "metadata": {},
   "outputs": [
    {
     "name": "stdout",
     "output_type": "stream",
     "text": [
      "Answer: 2935\n"
     ]
    }
   ],
   "source": [
    "import math\n",
    "\n",
    "potential_departure_times = [bus * math.ceil(earliest_departure / bus) for bus in running_buses]\n",
    "departure_time = min(potential_departure_times)\n",
    "bus_index = potential_departure_times.index(departure_time)\n",
    "bus_id = running_buses[bus_index]\n",
    "\n",
    "print('Answer: %d' % (bus_id * (departure_time - earliest_departure)))"
   ]
  },
  {
   "cell_type": "markdown",
   "metadata": {},
   "source": [
    "</p><article class=\"day-desc\"><h2 id=\"part2\">--- Part Two ---</h2><p>The shuttle company is running a <span title=\"This is why you should never let me design a contest for a shuttle company.\">contest</span>: one gold coin for anyone that can find the earliest timestamp such that the first bus ID departs at that time and each subsequent listed bus ID departs at that subsequent minute. (The first line in your input is no longer relevant.)</p>\n",
    "<p>For example, suppose you have the same list of bus IDs as above:</p>\n",
    "<pre><code>7,13,x,x,59,x,31,19</code></pre>\n",
    "<p>An <code>x</code> in the schedule means there are no constraints on what bus IDs must depart at that time.</p>\n",
    "<p>This means you are looking for the earliest timestamp (called <code>t</code>) such that:</p>\n",
    "<ul>\n",
    "<li>Bus ID <code>7</code> departs at timestamp <code>t</code>.\n",
    "<li>Bus ID <code>13</code> departs one minute after timestamp <code>t</code>.</li>\n",
    "<li>There are no requirements or restrictions on departures at two or three minutes after timestamp <code>t</code>.</li>\n",
    "<li>Bus ID <code>59</code> departs four minutes after timestamp <code>t</code>.</li>\n",
    "<li>There are no requirements or restrictions on departures at five minutes after timestamp <code>t</code>.</li>\n",
    "<li>Bus ID <code>31</code> departs six minutes after timestamp <code>t</code>.</li>\n",
    "<li>Bus ID <code>19</code> departs seven minutes after timestamp <code>t</code>.</li>\n",
    "</ul>\n",
    "<p>The only bus departures that matter are the listed bus IDs at their specific offsets from <code>t</code>. Those bus IDs can depart at other times, and other bus IDs can depart at those times.  For example, in the list above, because bus ID <code>19</code> must depart seven minutes after the timestamp at which bus ID <code>7</code> departs, bus ID <code>7</code> will always <em>also</em> be departing with bus ID <code>19</code> at seven minutes after timestamp <code>t</code>.</p>\n",
    "<p>In this example, the earliest timestamp at which this occurs is <em><code>1068781</code></em>:</p>\n",
    "<pre><code>time     bus 7   bus 13  bus 59  bus 31  bus 19\n",
    "1068773    .       .       .       .       .\n",
    "1068774    D       .       .       .       .\n",
    "1068775    .       .       .       .       .\n",
    "1068776    .       .       .       .       .\n",
    "1068777    .       .       .       .       .\n",
    "1068778    .       .       .       .       .\n",
    "1068779    .       .       .       .       .\n",
    "1068780    .       .       .       .       .\n",
    "<em>1068781</em>    <em>D</em>       .       .       .       .\n",
    "<em>1068782</em>    .       <em>D</em>       .       .       .\n",
    "<em>1068783</em>    .       .       .       .       .\n",
    "<em>1068784</em>    .       .       .       .       .\n",
    "<em>1068785</em>    .       .       <em>D</em>       .       .\n",
    "<em>1068786</em>    .       .       .       .       .\n",
    "<em>1068787</em>    .       .       .       <em>D</em>       .\n",
    "<em>1068788</em>    D       .       .       .       <em>D</em>\n",
    "1068789    .       .       .       .       .\n",
    "1068790    .       .       .       .       .\n",
    "1068791    .       .       .       .       .\n",
    "1068792    .       .       .       .       .\n",
    "1068793    .       .       .       .       .\n",
    "1068794    .       .       .       .       .\n",
    "1068795    D       D       .       .       .\n",
    "1068796    .       .       .       .       .\n",
    "1068797    .       .       .       .       .\n",
    "</code></pre>\n",
    "<p>In the above example, bus ID <code>7</code> departs at timestamp <code>1068788</code> (seven minutes after <code>t</code>). This is fine; the only requirement on that minute is that bus ID <code>19</code> departs then, and it does.</p>\n",
    "<p>Here are some other examples:</p>\n",
    "<ul>\n",
    "<li>The earliest timestamp that matches the list <code>17,x,13,19</code> is <em><code>3417</code></em>.</li>\n",
    "<li><code>67,7,59,61</code> first occurs at timestamp <em><code>754018</code></em>.</li>\n",
    "<li><code>67,x,7,59,61</code> first occurs at timestamp <em><code>779210</code></em>.</li>\n",
    "<li><code>67,7,x,59,61</code> first occurs at timestamp <em><code>1261476</code></em>.</li>\n",
    "<li><code>1789,37,47,1889</code> first occurs at timestamp <em><code>1202161486</code></em>.</li>\n",
    "</ul>\n",
    "<p>However, with so many bus IDs in your list, surely the actual earliest timestamp will be larger than <code>100000000000000</code>!</p>\n",
    "<p><em>What is the earliest timestamp such that all of the listed bus IDs depart at offsets matching their positions in the list?</em></p>\n",
    "</article>\n",
    "<p>Your puzzle answer was <code>836024966345345</code>.</p><p class=\"day-success\">Both parts of this puzzle are complete! They provide two gold stars: **</p>"
   ]
  },
  {
   "cell_type": "code",
   "execution_count": 267,
   "metadata": {},
   "outputs": [],
   "source": [
    "buses_with_offsets = [(int(bus), int(bus) - buses.index(bus)) for bus in buses if bus != 'x']"
   ]
  },
  {
   "cell_type": "markdown",
   "metadata": {},
   "source": [
    "Set this up as a system of congruence equations\n",
    "\n",
    "For the example provided we would have\n",
    "\n",
    "$t \\ \\%\\  7 = 0$\n",
    "\n",
    "$t \\ \\%\\  13 = 12$\n",
    "\n",
    "$t \\ \\%\\  49 = 55$\n",
    "\n",
    "$t \\ \\%\\  31 = 25$\n",
    "\n",
    "$t \\ \\%\\  19 = 12$\n",
    "\n",
    "where $t$ is our target, and the other values are our bus_id and (bus_id - offset).\n",
    "\n",
    "If our bus_ids are pairwise coprime, we can use the Chinese Remainder theorem \n",
    "\n",
    "https://en.wikipedia.org/wiki/Chinese_remainder_theorem"
   ]
  },
  {
   "cell_type": "code",
   "execution_count": 273,
   "metadata": {},
   "outputs": [],
   "source": [
    "def HCF(a, b): \n",
    "     \n",
    "    if (a == 0): \n",
    "        return b \n",
    "         \n",
    "    return HCF(b % a, a) \n",
    " \n",
    "def LCM(a, b): \n",
    "     \n",
    "    return (a * b) // HCF(a, b) \n",
    " \n",
    "def check_pairwise_coprime(A, n): \n",
    "     \n",
    "    prod = 1\n",
    "    lcm = 1\n",
    " \n",
    "    # Iterate over the array \n",
    "    for i in range(n): \n",
    " \n",
    "        # Calculate product\n",
    "        prod *= A[i] \n",
    " \n",
    "        # Calculate LCM\n",
    "        lcm = LCM(A[i], lcm) \n",
    " \n",
    "    if (prod == lcm): \n",
    "        return True \n",
    "    else: \n",
    "        return False"
   ]
  },
  {
   "cell_type": "code",
   "execution_count": 274,
   "metadata": {},
   "outputs": [
    {
     "data": {
      "text/plain": [
       "True"
      ]
     },
     "execution_count": 274,
     "metadata": {},
     "output_type": "execute_result"
    }
   ],
   "source": [
    "check_pairwise_coprime(running_buses,len(running_buses))"
   ]
  },
  {
   "cell_type": "code",
   "execution_count": 275,
   "metadata": {},
   "outputs": [],
   "source": [
    "# The following code is taken from https://fangya.medium.com/chinese-remainder-theorem-with-python-a483de81fbb8\n",
    "\n",
    "from functools import reduce\n",
    "def chinese_remainder(n, a):\n",
    "    sum = 0\n",
    "    prod = reduce(lambda a, b: a*b, n)\n",
    "    for n_i, a_i in zip(n,a):\n",
    "        p = prod // n_i\n",
    "        sum += a_i * mul_inv(p, n_i) * p\n",
    "    return sum % prod\n",
    "\n",
    "def mul_inv(a, b):\n",
    "    b0= b\n",
    "    x0, x1= 0,1\n",
    "    if b== 1: return 1\n",
    "    while a > 1 :\n",
    "        q = a // b\n",
    "        a, b = b, a % b\n",
    "        x0, x1 = x1 - q * x0, x0\n",
    "    if x1 < 0 : x1 += b0\n",
    "    return x1"
   ]
  },
  {
   "cell_type": "code",
   "execution_count": 276,
   "metadata": {
    "scrolled": false
   },
   "outputs": [
    {
     "name": "stdout",
     "output_type": "stream",
     "text": [
      "836024966345345\n"
     ]
    }
   ],
   "source": [
    "n = [bus[0] for bus in buses_with_offsets]\n",
    "a = [bus[1] for bus in buses_with_offsets]\n",
    "\n",
    "print(int(chinese_remainder(n,a)))"
   ]
  }
 ],
 "metadata": {
  "kernelspec": {
   "display_name": "Python 3",
   "language": "python",
   "name": "python3"
  },
  "language_info": {
   "codemirror_mode": {
    "name": "ipython",
    "version": 3
   },
   "file_extension": ".py",
   "mimetype": "text/x-python",
   "name": "python",
   "nbconvert_exporter": "python",
   "pygments_lexer": "ipython3",
   "version": "3.7.6"
  }
 },
 "nbformat": 4,
 "nbformat_minor": 4
}
