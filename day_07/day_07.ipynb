{
 "cells": [
  {
   "cell_type": "code",
   "execution_count": 1,
   "metadata": {},
   "outputs": [],
   "source": [
    "with open('input.txt') as input_text:\n",
    "    rules = input_text.readlines()"
   ]
  },
  {
   "cell_type": "markdown",
   "metadata": {},
   "source": [
    "## Part 1"
   ]
  },
  {
   "cell_type": "code",
   "execution_count": 2,
   "metadata": {},
   "outputs": [],
   "source": [
    "import re\n",
    "\n",
    "# We will create a dict of lists, where a (key, value) pair is a (bag colour, list of bags this could contain)\n",
    "\n",
    "def get_dict_from_rules(rules):\n",
    "    bag_dict = {}\n",
    "    for rule in rules:\n",
    "        \n",
    "        bag_colour, rule = rule.split('contain')\n",
    "        bag_colour = ' '.join(bag_colour.split())[:-5]\n",
    "        \n",
    "        individual_rules = rule.split(',')\n",
    "        contained_bags = []\n",
    "        for bag in individual_rules:\n",
    "            #remove non-alphabetic/non-whitespace characters\n",
    "            bag = re.sub(r'[^a-z\\s]', '', bag)\n",
    "            bag = ' '.join(bag.split())\n",
    "            if bag.endswith('s'):\n",
    "                bag = bag[:-1]\n",
    "            if bag != 'no other bag':\n",
    "                contained_bags.append(bag[:-4])    \n",
    "               \n",
    "        bag_dict[bag_colour] = contained_bags\n",
    "        \n",
    "    return bag_dict"
   ]
  },
  {
   "cell_type": "code",
   "execution_count": 3,
   "metadata": {},
   "outputs": [],
   "source": [
    "bag_dict = get_dict_from_rules(rules)"
   ]
  },
  {
   "cell_type": "code",
   "execution_count": 4,
   "metadata": {},
   "outputs": [],
   "source": [
    "def could_contain_shiny_gold(bag, bag_dict):\n",
    "    if bag_dict[bag] == []:\n",
    "        return False\n",
    "    elif 'shiny gold' in bag_dict[bag]:\n",
    "        return True\n",
    "    else:\n",
    "        return any([could_contain_shiny_gold(b, bag_dict) for b in bag_dict[bag]])"
   ]
  },
  {
   "cell_type": "code",
   "execution_count": 5,
   "metadata": {},
   "outputs": [
    {
     "name": "stdout",
     "output_type": "stream",
     "text": [
      "372 bags could contain a shiny gold bag\n"
     ]
    }
   ],
   "source": [
    "count = 0\n",
    "for bag in bag_dict:\n",
    "    if could_contain_shiny_gold(bag, bag_dict):\n",
    "        count += 1\n",
    "\n",
    "print('%s bags could contain a shiny gold bag' % count)"
   ]
  },
  {
   "cell_type": "markdown",
   "metadata": {},
   "source": [
    "## Part 2"
   ]
  },
  {
   "cell_type": "code",
   "execution_count": 6,
   "metadata": {},
   "outputs": [],
   "source": [
    "import re\n",
    "\n",
    "# Redefine list of bags it could contain so it includes number of occurrences\n",
    "\n",
    "def get_dict_from_rules(rules):\n",
    "    bag_dict = {}\n",
    "    for rule in rules:\n",
    "        \n",
    "        bag_colour, rule = rule.split('contain')\n",
    "        bag_colour = ' '.join(bag_colour.split())[:-5]\n",
    "        \n",
    "        individual_rules = rule.split(',')\n",
    "        contained_bags = []\n",
    "        for bag in individual_rules:\n",
    "            if 'no other bag' in bag:\n",
    "                continue\n",
    "            number = int(re.sub(r'[^0-9]', '',bag))\n",
    "            \n",
    "            #remove non-alphabetic/non-whitespace characters\n",
    "            bag = re.sub(r'[^a-z\\s]', '', bag)\n",
    "            bag = ' '.join(bag.split())\n",
    "            if bag.endswith('s'):\n",
    "                bag = bag[:-1]\n",
    "            contained_bags += number * [bag[:-4]]\n",
    "               \n",
    "        bag_dict[bag_colour] = contained_bags\n",
    "        \n",
    "    return bag_dict"
   ]
  },
  {
   "cell_type": "code",
   "execution_count": 7,
   "metadata": {},
   "outputs": [],
   "source": [
    "bag_dict = get_dict_from_rules(rules)"
   ]
  },
  {
   "cell_type": "code",
   "execution_count": 15,
   "metadata": {},
   "outputs": [],
   "source": [
    "def count_bags(bag, bag_dict):\n",
    "    if bag_dict[bag] == []:\n",
    "        return 1\n",
    "    else:\n",
    "        return 1 + sum([count_bags(b,bag_dict) for b in bag_dict[bag]])"
   ]
  },
  {
   "cell_type": "code",
   "execution_count": 16,
   "metadata": {},
   "outputs": [
    {
     "name": "stdout",
     "output_type": "stream",
     "text": [
      "There are 8016 bags in a shiny gold bag\n"
     ]
    }
   ],
   "source": [
    "bag_count = count_bags('shiny gold', bag_dict)\n",
    "print('There are %d bags in a shiny gold bag' % bag_count)"
   ]
  },
  {
   "cell_type": "code",
   "execution_count": null,
   "metadata": {},
   "outputs": [],
   "source": []
  }
 ],
 "metadata": {
  "kernelspec": {
   "display_name": "Python 3",
   "language": "python",
   "name": "python3"
  },
  "language_info": {
   "codemirror_mode": {
    "name": "ipython",
    "version": 3
   },
   "file_extension": ".py",
   "mimetype": "text/x-python",
   "name": "python",
   "nbconvert_exporter": "python",
   "pygments_lexer": "ipython3",
   "version": "3.7.6"
  }
 },
 "nbformat": 4,
 "nbformat_minor": 4
}
