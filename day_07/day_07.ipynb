{
 "cells": [
  {
   "cell_type": "code",
   "execution_count": 1,
   "metadata": {},
   "outputs": [],
   "source": [
    "with open('input.txt') as input_text:\n",
    "    rules = input_text.readlines()"
   ]
  },
  {
   "cell_type": "markdown",
   "metadata": {},
   "source": [
    "<main>\n",
    "<script>window.addEventListener('click', function(e,s,r){if(e.target.nodeName==='CODE'&&e.detail===3){s=window.getSelection();s.removeAllRanges();r=document.createRange();r.selectNodeContents(e.target);s.addRange(r);}});</script>\n",
    "<article class=\"day-desc\"><h2>--- Day 7: Handy Haversacks ---</h2><p>You land at the regional airport in time for your next flight. In fact, it looks like you'll even have time to grab some food: all flights are currently delayed due to <em>issues in luggage processing</em>.</p>\n",
    "<p>Due to recent aviation regulations, many rules (your puzzle input) are being enforced about bags and their contents; bags must be color-coded and must contain specific quantities of other color-coded bags. Apparently, nobody responsible for these regulations considered how long they would take to enforce!</p>\n",
    "<p>For example, consider the following rules:</p>\n",
    "<pre><code>light red bags contain 1 bright white bag, 2 muted yellow bags.\n",
    "dark orange bags contain 3 bright white bags, 4 muted yellow bags.\n",
    "bright white bags contain 1 shiny gold bag.\n",
    "muted yellow bags contain 2 shiny gold bags, 9 faded blue bags.\n",
    "shiny gold bags contain 1 dark olive bag, 2 vibrant plum bags.\n",
    "dark olive bags contain 3 faded blue bags, 4 dotted black bags.\n",
    "vibrant plum bags contain 5 faded blue bags, 6 dotted black bags.\n",
    "faded blue bags contain no other bags.\n",
    "dotted black bags contain no other bags.\n",
    "</code></pre>\n",
    "<p>These rules specify the required contents for 9 bag types. In this example, every <code>faded blue</code> bag is empty, every <code>vibrant plum</code> bag contains 11 bags (5 <code>faded blue</code> and 6 <code>dotted black</code>), and so on.</p>\n",
    "<p>You have a <code><em>shiny gold</em></code> bag. If you wanted to carry it in at least one other bag, how many different bag colors would be valid for the outermost bag? (In other words: how many colors can, eventually, contain at least one <code>shiny gold</code> bag?)</p>\n",
    "<p>In the above rules, the following options would be available to you:</p>\n",
    "<ul>\n",
    "<li>A <code>bright white</code> bag, which can hold your <code>shiny gold</code> bag directly.</li>\n",
    "<li>A <code>muted yellow</code> bag, which can hold your <code>shiny gold</code> bag directly, plus some other bags.</li>\n",
    "<li>A <code>dark orange</code> bag, which can hold <code>bright white</code> and <code>muted yellow</code> bags, either of which could then hold your <code>shiny gold</code> bag.</li>\n",
    "<li>A <code>light red</code> bag, which can hold <code>bright white</code> and <code>muted yellow</code> bags, either of which could then hold your <code>shiny gold</code> bag.</li>\n",
    "</ul>\n",
    "<p>So, in this example, the number of bag colors that can eventually contain at least one <code>shiny gold</code> bag is <code><em>4</em></code>.</p>\n",
    "<p><em>How many bag colors can eventually contain at least one <code>shiny gold</code> bag?</em> (The list of rules is quite long; make sure you get all of it.)</p>\n",
    "</article>\n",
    "<p>Your puzzle answer was <code>372</code>."
   ]
  },
  {
   "cell_type": "code",
   "execution_count": 2,
   "metadata": {},
   "outputs": [],
   "source": [
    "import re\n",
    "\n",
    "# We will create a dict of lists, where a (key, value) pair is a (bag colour, list of bags this could contain)\n",
    "\n",
    "def get_dict_from_rules(rules):\n",
    "    bag_dict = {}\n",
    "    for rule in rules:\n",
    "        \n",
    "        bag_colour, rule = rule.split('contain')\n",
    "        bag_colour = ' '.join(bag_colour.split())[:-5]\n",
    "        \n",
    "        individual_rules = rule.split(',')\n",
    "        contained_bags = []\n",
    "        for bag in individual_rules:\n",
    "            #remove non-alphabetic/non-whitespace characters\n",
    "            bag = re.sub(r'[^a-z\\s]', '', bag)\n",
    "            bag = ' '.join(bag.split())\n",
    "            if bag.endswith('s'):\n",
    "                bag = bag[:-1]\n",
    "            if bag != 'no other bag':\n",
    "                contained_bags.append(bag[:-4])    \n",
    "               \n",
    "        bag_dict[bag_colour] = contained_bags\n",
    "        \n",
    "    return bag_dict"
   ]
  },
  {
   "cell_type": "code",
   "execution_count": 3,
   "metadata": {},
   "outputs": [],
   "source": [
    "bag_dict = get_dict_from_rules(rules)"
   ]
  },
  {
   "cell_type": "code",
   "execution_count": 4,
   "metadata": {},
   "outputs": [],
   "source": [
    "def could_contain_shiny_gold(bag, bag_dict):\n",
    "    if bag_dict[bag] == []:\n",
    "        return False\n",
    "    elif 'shiny gold' in bag_dict[bag]:\n",
    "        return True\n",
    "    else:\n",
    "        return any([could_contain_shiny_gold(b, bag_dict) for b in bag_dict[bag]])"
   ]
  },
  {
   "cell_type": "code",
   "execution_count": 5,
   "metadata": {},
   "outputs": [
    {
     "name": "stdout",
     "output_type": "stream",
     "text": [
      "372 bags could contain a shiny gold bag\n"
     ]
    }
   ],
   "source": [
    "count = 0\n",
    "for bag in bag_dict:\n",
    "    if could_contain_shiny_gold(bag, bag_dict):\n",
    "        count += 1\n",
    "\n",
    "print('%s bags could contain a shiny gold bag' % count)"
   ]
  },
  {
   "cell_type": "markdown",
   "metadata": {},
   "source": [
    "</p><article class=\"day-desc\"><h2 id=\"part2\">--- Part Two ---</h2><p>It's getting pretty expensive to fly these days - not because of ticket prices, but because of the ridiculous number of bags you need to buy!</p>\n",
    "<p>Consider again your <code>shiny gold</code> bag and the rules from the above example:</p>\n",
    "<ul>\n",
    "<li><code>faded blue</code> bags contain <code>0</code> other bags.</li>\n",
    "<li><code>dotted black</code> bags contain <code>0</code> other bags.</li>\n",
    "<li><code>vibrant plum</code> bags contain <code>11</code> other bags: 5 <code>faded blue</code> bags and 6 <code>dotted black</code> bags.</li>\n",
    "<li><code>dark olive</code> bags contain <code>7</code> other bags: 3 <code>faded blue</code> bags and 4 <code>dotted black</code> bags.</li>\n",
    "</ul>\n",
    "<p>So, a single <code>shiny gold</code> bag must contain 1 <code>dark olive</code> bag (and the 7 bags within it) plus 2 <code>vibrant plum</code> bags (and the 11 bags within <em>each</em> of those): <code>1 + 1*7 + 2 + 2*11</code> = <code><em>32</em></code> bags!</p>\n",
    "<p>Of course, the actual rules have a <span title=\"100%\">small</span> chance of going several levels deeper than this example; be sure to count all of the bags, even if the nesting becomes topologically impractical!</p>\n",
    "<p>Here's another example:</p>\n",
    "<pre><code>shiny gold bags contain 2 dark red bags.\n",
    "dark red bags contain 2 dark orange bags.\n",
    "dark orange bags contain 2 dark yellow bags.\n",
    "dark yellow bags contain 2 dark green bags.\n",
    "dark green bags contain 2 dark blue bags.\n",
    "dark blue bags contain 2 dark violet bags.\n",
    "dark violet bags contain no other bags.\n",
    "</code></pre>\n",
    "<p>In this example, a single <code>shiny gold</code> bag must contain <code><em>126</em></code> other bags.</p>\n",
    "<p><em>How many individual bags are required inside your single <code>shiny gold</code> bag?</em></p>\n",
    "</article>\n",
    "<p>Your puzzle answer was <code>8015</code>.</p><p class=\"day-success\">Both parts of this puzzle are complete! They provide two gold stars: **</p>"
   ]
  },
  {
   "cell_type": "code",
   "execution_count": 17,
   "metadata": {},
   "outputs": [],
   "source": [
    "import re\n",
    "\n",
    "# Redefine list of bags it could contain so it includes number of occurrences\n",
    "\n",
    "def get_dict_from_rules(rules):\n",
    "    bag_dict = {}\n",
    "    for rule in rules:\n",
    "        \n",
    "        bag_colour, rule = rule.split('contain')\n",
    "        bag_colour = ' '.join(bag_colour.split())[:-5]\n",
    "        \n",
    "        individual_rules = rule.split(',')\n",
    "        contained_bags = []\n",
    "        for bag in individual_rules:\n",
    "            if 'no other bag' in bag:\n",
    "                continue\n",
    "            number = int(re.sub(r'[^0-9]', '',bag))\n",
    "            \n",
    "            #remove non-alphabetic/non-whitespace characters\n",
    "            bag = re.sub(r'[^a-z\\s]', '', bag)\n",
    "            bag = ' '.join(bag.split())\n",
    "            if bag.endswith('s'):\n",
    "                bag = bag[:-1]\n",
    "            contained_bags += number * [bag[:-4]]\n",
    "               \n",
    "        bag_dict[bag_colour] = contained_bags\n",
    "        \n",
    "    return bag_dict"
   ]
  },
  {
   "cell_type": "code",
   "execution_count": 18,
   "metadata": {},
   "outputs": [],
   "source": [
    "bag_dict = get_dict_from_rules(rules)"
   ]
  },
  {
   "cell_type": "code",
   "execution_count": 19,
   "metadata": {},
   "outputs": [],
   "source": [
    "def count_bags_inclusive(bag, bag_dict):\n",
    "    # if the bag is empty then only count this bag\n",
    "    if bag_dict[bag] == []:\n",
    "        return 1\n",
    "    # if the bag is not empty, count this bag and all bags it contains\n",
    "    else:\n",
    "        return 1 + sum([count_bags(b,bag_dict) for b in bag_dict[bag]])"
   ]
  },
  {
   "cell_type": "code",
   "execution_count": 20,
   "metadata": {},
   "outputs": [
    {
     "name": "stdout",
     "output_type": "stream",
     "text": [
      "There are 8015 bags in a shiny gold bag\n"
     ]
    }
   ],
   "source": [
    "bag_count = count_bags('shiny gold', bag_dict) - 1 # we need to exclude the shiny gold bag itself\n",
    "print('There are %d bags in a shiny gold bag' % bag_count)"
   ]
  }
 ],
 "metadata": {
  "kernelspec": {
   "display_name": "Python 3",
   "language": "python",
   "name": "python3"
  },
  "language_info": {
   "codemirror_mode": {
    "name": "ipython",
    "version": 3
   },
   "file_extension": ".py",
   "mimetype": "text/x-python",
   "name": "python",
   "nbconvert_exporter": "python",
   "pygments_lexer": "ipython3",
   "version": "3.7.6"
  }
 },
 "nbformat": 4,
 "nbformat_minor": 4
}
