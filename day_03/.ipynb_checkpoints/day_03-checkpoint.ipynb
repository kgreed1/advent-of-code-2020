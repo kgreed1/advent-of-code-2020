{
 "cells": [
  {
   "cell_type": "markdown",
   "metadata": {},
   "source": [
    "<main>\n",
    "<script>window.addEventListener('click', function(e,s,r){if(e.target.nodeName==='CODE'&&e.detail===3){s=window.getSelection();s.removeAllRanges();r=document.createRange();r.selectNodeContents(e.target);s.addRange(r);}});</script>\n",
    "<article class=\"day-desc\"><h2>--- Day 3: Toboggan Trajectory ---</h2><p>With the toboggan login problems resolved, you set off toward the airport. While travel by toboggan might be easy, it's certainly not safe: there's <span title=\"It looks like the toboggan steering system even runs on Intcode! Good thing you don't have to modify it.\">very minimal steering</span> and the area is covered in trees. You'll need to see which angles will take you near the fewest trees.</p>\n",
    "<p>Due to the local geology, trees in this area only grow on exact integer coordinates in a grid. You make a map (your puzzle input) of the open squares (<code>.</code>) and trees (<code>#</code>) you can see. For example:</p>\n",
    "<pre><code>..##.......\n",
    "#...#...#..\n",
    ".#....#..#.\n",
    "..#.#...#.#\n",
    ".#...##..#.\n",
    "..#.##.....\n",
    ".#.#.#....#\n",
    ".#........#\n",
    "#.##...#...\n",
    "#...##....#\n",
    ".#..#...#.#\n",
    "</code></pre>\n",
    "<p>These aren't the only trees, though; due to something you read about once involving arboreal genetics and biome stability, the same pattern repeats to the right many times:</p>\n",
    "<pre><code><em>..##.......</em>..##.........##.........##.........##.........##.......  ---&gt;\n",
    "<em>#...#...#..</em>#...#...#..#...#...#..#...#...#..#...#...#..#...#...#..\n",
    "<em>.#....#..#.</em>.#....#..#..#....#..#..#....#..#..#....#..#..#....#..#.\n",
    "<em>..#.#...#.#</em>..#.#...#.#..#.#...#.#..#.#...#.#..#.#...#.#..#.#...#.#\n",
    "<em>.#...##..#.</em>.#...##..#..#...##..#..#...##..#..#...##..#..#...##..#.\n",
    "<em>..#.##.....</em>..#.##.......#.##.......#.##.......#.##.......#.##.....  ---&gt;\n",
    "<em>.#.#.#....#</em>.#.#.#....#.#.#.#....#.#.#.#....#.#.#.#....#.#.#.#....#\n",
    "<em>.#........#</em>.#........#.#........#.#........#.#........#.#........#\n",
    "<em>#.##...#...</em>#.##...#...#.##...#...#.##...#...#.##...#...#.##...#...\n",
    "<em>#...##....#</em>#...##....##...##....##...##....##...##....##...##....#\n",
    "<em>.#..#...#.#</em>.#..#...#.#.#..#...#.#.#..#...#.#.#..#...#.#.#..#...#.#  ---&gt;\n",
    "</code></pre>\n",
    "<p>You start on the open square (<code>.</code>) in the top-left corner and need to reach the bottom (below the bottom-most row on your map).</p>\n",
    "<p>The toboggan can only follow a few specific slopes (you opted for a cheaper model that prefers rational numbers); start by <em>counting all the trees</em> you would encounter for the slope <em>right 3, down 1</em>:</p>\n",
    "<p>From your starting position at the top-left, check the position that is right 3 and down 1. Then, check the position that is right 3 and down 1 from there, and so on until you go past the bottom of the map.</p>\n",
    "<p>The locations you'd check in the above example are marked here with <code><em>O</em></code> where there was an open square and <code><em>X</em></code> where there was a tree:</p>\n",
    "<pre><code>..##.........##.........##.........##.........##.........##.......  ---&gt;\n",
    "#..<em>O</em>#...#..#...#...#..#...#...#..#...#...#..#...#...#..#...#...#..\n",
    ".#....<em>X</em>..#..#....#..#..#....#..#..#....#..#..#....#..#..#....#..#.\n",
    "..#.#...#<em>O</em>#..#.#...#.#..#.#...#.#..#.#...#.#..#.#...#.#..#.#...#.#\n",
    ".#...##..#..<em>X</em>...##..#..#...##..#..#...##..#..#...##..#..#...##..#.\n",
    "..#.##.......#.<em>X</em>#.......#.##.......#.##.......#.##.......#.##.....  ---&gt;\n",
    ".#.#.#....#.#.#.#.<em>O</em>..#.#.#.#....#.#.#.#....#.#.#.#....#.#.#.#....#\n",
    ".#........#.#........<em>X</em>.#........#.#........#.#........#.#........#\n",
    "#.##...#...#.##...#...#.<em>X</em>#...#...#.##...#...#.##...#...#.##...#...\n",
    "#...##....##...##....##...#<em>X</em>....##...##....##...##....##...##....#\n",
    ".#..#...#.#.#..#...#.#.#..#...<em>X</em>.#.#..#...#.#.#..#...#.#.#..#...#.#  ---&gt;\n",
    "</code></pre>\n",
    "<p>In this example, traversing the map using this slope would cause you to encounter <code><em>7</em></code> trees.</p>\n",
    "<p>Starting at the top-left corner of your map and following a slope of right 3 and down 1, <em>how many trees would you encounter?</em></p>\n",
    "</article>\n",
    "<p>Your puzzle answer was <code>242</code>."
   ]
  },
  {
   "cell_type": "code",
   "execution_count": 17,
   "metadata": {},
   "outputs": [],
   "source": [
    "with open('input.txt') as input_file:\n",
    "    input = input_file.readlines()"
   ]
  },
  {
   "cell_type": "code",
   "execution_count": 42,
   "metadata": {},
   "outputs": [],
   "source": [
    "def count_trees(area_map, trajectory):\n",
    "    trees = 0\n",
    "    x_coordinate = 0\n",
    "    y_coordinate = 0\n",
    "    steps_right, steps_down = trajectory\n",
    "    \n",
    "    for i, line in enumerate(area_map):\n",
    "        \n",
    "        if i != y_coordinate:\n",
    "            continue\n",
    "        \n",
    "        line = line.strip()\n",
    "        if line[x_coordinate] == '#':\n",
    "            trees += 1\n",
    "        \n",
    "        x_coordinate = (x_coordinate + steps_right) % len(line)\n",
    "        y_coordinate += steps_down\n",
    "\n",
    "            \n",
    "    return trees"
   ]
  },
  {
   "cell_type": "code",
   "execution_count": 47,
   "metadata": {},
   "outputs": [
    {
     "name": "stdout",
     "output_type": "stream",
     "text": [
      "You will encounter 242 trees\n"
     ]
    }
   ],
   "source": [
    "encountered_trees = count_trees(input, (3,1))\n",
    "print('You will encounter %d trees' % encountered_trees)"
   ]
  },
  {
   "cell_type": "markdown",
   "metadata": {},
   "source": [
    "</p><article class=\"day-desc\"><h2 id=\"part2\">--- Part Two ---</h2><p>Time to check the rest of the slopes - you need to minimize the probability of a sudden arboreal stop, after all.</p>\n",
    "<p>Determine the number of trees you would encounter if, for each of the following slopes, you start at the top-left corner and traverse the map all the way to the bottom:</p>\n",
    "<ul>\n",
    "<li>Right 1, down 1.</li>\n",
    "<li>Right 3, down 1. (This is the slope you already checked.)</li>\n",
    "<li>Right 5, down 1.</li>\n",
    "<li>Right 7, down 1.</li>\n",
    "<li>Right 1, down 2.</li>\n",
    "</ul>\n",
    "<p>In the above example, these slopes would find <code>2</code>, <code>7</code>, <code>3</code>, <code>4</code>, and <code>2</code> tree(s) respectively; multiplied together, these produce the answer <code><em>336</em></code>.</p>\n",
    "<p><em>What do you get if you multiply together the number of trees encountered on each of the listed slopes?</em></p>\n",
    "</article>\n",
    "<p>Your puzzle answer was <code>2265549792</code>.</p><p class=\"day-success\">Both parts of this puzzle are complete! They provide two gold stars: **</p>"
   ]
  },
  {
   "cell_type": "code",
   "execution_count": 46,
   "metadata": {},
   "outputs": [
    {
     "name": "stdout",
     "output_type": "stream",
     "text": [
      "2265549792\n"
     ]
    }
   ],
   "source": [
    "trajectories = [(1,1), (3,1), (5,1), (7,1), (1,2)]\n",
    "\n",
    "product = 1\n",
    "\n",
    "for trajectory in trajectories:\n",
    "    product *= count_trees(input, trajectory)\n",
    "    \n",
    "print(product)"
   ]
  }
 ],
 "metadata": {
  "kernelspec": {
   "display_name": "Python 3",
   "language": "python",
   "name": "python3"
  },
  "language_info": {
   "codemirror_mode": {
    "name": "ipython",
    "version": 3
   },
   "file_extension": ".py",
   "mimetype": "text/x-python",
   "name": "python",
   "nbconvert_exporter": "python",
   "pygments_lexer": "ipython3",
   "version": "3.7.6"
  }
 },
 "nbformat": 4,
 "nbformat_minor": 4
}
