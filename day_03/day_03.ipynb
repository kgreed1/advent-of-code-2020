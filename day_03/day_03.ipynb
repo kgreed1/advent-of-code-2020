{
 "cells": [
  {
   "cell_type": "code",
   "execution_count": 17,
   "metadata": {},
   "outputs": [],
   "source": [
    "with open('input.txt') as input_file:\n",
    "    input = input_file.readlines()"
   ]
  },
  {
   "cell_type": "markdown",
   "metadata": {},
   "source": [
    "## Part 1"
   ]
  },
  {
   "cell_type": "code",
   "execution_count": 42,
   "metadata": {},
   "outputs": [],
   "source": [
    "def count_trees(area_map, trajectory):\n",
    "    trees = 0\n",
    "    x_coordinate = 0\n",
    "    y_coordinate = 0\n",
    "    steps_right, steps_down = trajectory\n",
    "    \n",
    "    for i, line in enumerate(area_map):\n",
    "        \n",
    "        if i != y_coordinate:\n",
    "            continue\n",
    "        \n",
    "        line = line.strip()\n",
    "        if line[x_coordinate] == '#':\n",
    "            trees += 1\n",
    "        \n",
    "        x_coordinate = (x_coordinate + steps_right) % len(line)\n",
    "        y_coordinate += steps_down\n",
    "\n",
    "            \n",
    "    return trees"
   ]
  },
  {
   "cell_type": "code",
   "execution_count": 43,
   "metadata": {},
   "outputs": [
    {
     "data": {
      "text/plain": [
       "242"
      ]
     },
     "execution_count": 43,
     "metadata": {},
     "output_type": "execute_result"
    }
   ],
   "source": [
    "count_trees(input, (3,1))"
   ]
  },
  {
   "cell_type": "markdown",
   "metadata": {},
   "source": [
    "## Part 2"
   ]
  },
  {
   "cell_type": "code",
   "execution_count": 46,
   "metadata": {},
   "outputs": [
    {
     "name": "stdout",
     "output_type": "stream",
     "text": [
      "2265549792\n"
     ]
    }
   ],
   "source": [
    "trajectories = [(1,1), (3,1), (5,1), (7,1), (1,2)]\n",
    "\n",
    "product = 1\n",
    "\n",
    "for trajectory in trajectories:\n",
    "    product *= count_trees(input, trajectory)\n",
    "    \n",
    "print(product)"
   ]
  }
 ],
 "metadata": {
  "kernelspec": {
   "display_name": "Python 3",
   "language": "python",
   "name": "python3"
  },
  "language_info": {
   "codemirror_mode": {
    "name": "ipython",
    "version": 3
   },
   "file_extension": ".py",
   "mimetype": "text/x-python",
   "name": "python",
   "nbconvert_exporter": "python",
   "pygments_lexer": "ipython3",
   "version": "3.7.6"
  }
 },
 "nbformat": 4,
 "nbformat_minor": 4
}
