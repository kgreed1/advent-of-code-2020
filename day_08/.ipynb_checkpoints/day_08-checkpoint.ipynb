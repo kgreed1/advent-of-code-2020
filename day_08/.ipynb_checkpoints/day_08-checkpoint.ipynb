{
 "cells": [
  {
   "cell_type": "markdown",
   "metadata": {},
   "source": [
    "<main>\n",
    "<script>window.addEventListener('click', function(e,s,r){if(e.target.nodeName==='CODE'&&e.detail===3){s=window.getSelection();s.removeAllRanges();r=document.createRange();r.selectNodeContents(e.target);s.addRange(r);}});</script>\n",
    "<article class=\"day-desc\"><h2>--- Day 8: Handheld Halting ---</h2><p>Your flight to the major airline hub reaches cruising altitude without incident.  While you consider checking the in-flight menu for one of those drinks that come with a little umbrella, you are interrupted by the kid sitting next to you.</p>\n",
    "<p>Their <a target=\"_blank\" href=\"https://en.wikipedia.org/wiki/Handheld_game_console\">handheld game console</a> won't turn on! They ask if you can take a look.</p>\n",
    "<p>You narrow the problem down to a strange <em>infinite loop</em> in the <span title=\"A trendy new line of encrypted footwear?\">boot code</span> (your puzzle input) of the device. You should be able to fix it, but first you need to be able to run the code in isolation.</p>\n",
    "<p>The boot code is represented as a text file with one <em>instruction</em> per line of text. Each instruction consists of an <em>operation</em> (<code>acc</code>, <code>jmp</code>, or <code>nop</code>) and an <em>argument</em> (a signed number like <code>+4</code> or <code>-20</code>).</p>\n",
    "<ul>\n",
    "<li><code>acc</code> increases or decreases a single global value called the <em>accumulator</em> by the value given in the argument. For example, <code>acc +7</code> would increase the accumulator by 7. The accumulator starts at <code>0</code>. After an <code>acc</code> instruction, the instruction immediately below it is executed next.</li>\n",
    "<li><code>jmp</code> <em>jumps</em> to a new instruction relative to itself. The next instruction to execute is found using the argument as an <em>offset</em> from the <code>jmp</code> instruction; for example, <code>jmp +2</code> would skip the next instruction, <code>jmp +1</code> would continue to the instruction immediately below it, and <code>jmp -20</code> would cause the instruction 20 lines above to be executed next.</li>\n",
    "<li><code>nop</code> stands for <em>No OPeration</em> - it does nothing.  The instruction immediately below it is executed next.</li>\n",
    "</ul>\n",
    "<p>For example, consider the following program:</p>\n",
    "<pre><code>nop +0\n",
    "acc +1\n",
    "jmp +4\n",
    "acc +3\n",
    "jmp -3\n",
    "acc -99\n",
    "acc +1\n",
    "jmp -4\n",
    "acc +6\n",
    "</code></pre>\n",
    "<p>These instructions are visited in this order:</p>\n",
    "<pre><code>nop +0  | 1\n",
    "acc +1  | 2, 8(!)\n",
    "jmp +4  | 3\n",
    "acc +3  | 6\n",
    "jmp -3  | 7\n",
    "acc -99 |\n",
    "acc +1  | 4\n",
    "jmp -4  | 5\n",
    "acc +6  |\n",
    "</code></pre>\n",
    "<p>First, the <code>nop +0</code> does nothing. Then, the accumulator is increased from 0 to 1 (<code>acc +1</code>) and <code>jmp +4</code> sets the next instruction to the other <code>acc +1</code> near the bottom. After it increases the accumulator from 1 to 2, <code>jmp -4</code> executes, setting the next instruction to the only <code>acc +3</code>. It sets the accumulator to 5, and <code>jmp -3</code> causes the program to continue back at the first <code>acc +1</code>.</p>\n",
    "<p>This is an <em>infinite loop</em>: with this sequence of jumps, the program will run forever. The moment the program tries to run any instruction a second time, you know it will never terminate.</p>\n",
    "<p>Immediately <em>before</em> the program would run an instruction a second time, the value in the accumulator is <em><code>5</code></em>.</p>\n",
    "<p>Run your copy of the boot code. Immediately before any instruction is executed a second time, <em>what value is in the accumulator?</em></p>\n",
    "</article>\n",
    "<p>Your puzzle answer was <code>1446</code>."
   ]
  },
  {
   "cell_type": "code",
   "execution_count": 130,
   "metadata": {},
   "outputs": [],
   "source": [
    "with open('input.txt') as input_file:\n",
    "    program = input_file.read().strip('\\n').split('\\n')"
   ]
  },
  {
   "cell_type": "code",
   "execution_count": 131,
   "metadata": {},
   "outputs": [],
   "source": [
    "def run_program_that_loops(program):\n",
    "    pc  = 0 #the current line to execute\n",
    "    acc = 0\n",
    "    visit_tracker = [False] * len(program) # track if we have visited a line\n",
    "    visited_line = visit_tracker[0]\n",
    "    \n",
    "    while not visited_line:\n",
    "        visit_tracker[pc] = True\n",
    "        \n",
    "        line = program[pc]\n",
    "        instruction, value = line.split()\n",
    "        value = int(value.strip())\n",
    "        \n",
    "        if instruction == 'nop':\n",
    "            pc += 1\n",
    "        elif instruction == 'jmp':\n",
    "            pc += value\n",
    "        elif instruction == 'acc':\n",
    "            acc += value\n",
    "            pc += 1\n",
    "        else:\n",
    "            raise Exception('Bad program')\n",
    "        \n",
    "        visited_line = visit_tracker[pc]\n",
    "        \n",
    "    return acc"
   ]
  },
  {
   "cell_type": "code",
   "execution_count": 132,
   "metadata": {},
   "outputs": [
    {
     "name": "stdout",
     "output_type": "stream",
     "text": [
      "The value before the infinite loop starts is 1446\n"
     ]
    }
   ],
   "source": [
    "value_before_loop = run_program_that_loops(program)\n",
    "print('The value before the infinite loop starts is %s' % value_before_loop)"
   ]
  },
  {
   "cell_type": "markdown",
   "metadata": {},
   "source": [
    "</p><article class=\"day-desc\"><h2 id=\"part2\">--- Part Two ---</h2><p>After some careful analysis, you believe that <em>exactly one instruction is corrupted</em>.</p>\n",
    "<p>Somewhere in the program, <em>either</em> a <code>jmp</code> is supposed to be a <code>nop</code>, <em>or</em> a <code>nop</code> is supposed to be a <code>jmp</code>. (No <code>acc</code> instructions were harmed in the corruption of this boot code.)</p>\n",
    "<p>The program is supposed to terminate by <em>attempting to execute an instruction immediately after the last instruction in the file</em>. By changing exactly one <code>jmp</code> or <code>nop</code>, you can repair the boot code and make it terminate correctly.</p>\n",
    "<p>For example, consider the same program from above:</p>\n",
    "<pre><code>nop +0\n",
    "acc +1\n",
    "jmp +4\n",
    "acc +3\n",
    "jmp -3\n",
    "acc -99\n",
    "acc +1\n",
    "jmp -4\n",
    "acc +6\n",
    "</code></pre>\n",
    "<p>If you change the first instruction from <code>nop +0</code> to <code>jmp +0</code>, it would create a single-instruction infinite loop, never leaving that instruction.  If you change almost any of the <code>jmp</code> instructions, the program will still eventually find another <code>jmp</code> instruction and loop forever.</p>\n",
    "<p>However, if you change the second-to-last instruction (from <code>jmp -4</code> to <code>nop -4</code>), the program terminates! The instructions are visited in this order:</p>\n",
    "<pre><code>nop +0  | 1\n",
    "acc +1  | 2\n",
    "jmp +4  | 3\n",
    "acc +3  |\n",
    "jmp -3  |\n",
    "acc -99 |\n",
    "acc +1  | 4\n",
    "<em>nop</em> -4  | 5\n",
    "acc +6  | 6\n",
    "</code></pre>\n",
    "<p>After the last instruction (<code>acc +6</code>), the program terminates by attempting to run the instruction below the last instruction in the file.  With this change, after the program terminates, the accumulator contains the value <em><code>8</code></em> (<code>acc +1</code>, <code>acc +1</code>, <code>acc +6</code>).</p>\n",
    "<p>Fix the program so that it terminates normally by changing exactly one <code>jmp</code> (to <code>nop</code>) or <code>nop</code> (to <code>jmp</code>). <em>What is the value of the accumulator after the program terminates?</em></p>\n",
    "</article>\n",
    "<p>Your puzzle answer was <code>1403</code>.</p><p class=\"day-success\">Both parts of this puzzle are complete! They provide two gold stars: **</p>"
   ]
  },
  {
   "cell_type": "code",
   "execution_count": 133,
   "metadata": {},
   "outputs": [],
   "source": [
    "def fix_program(program):\n",
    "\n",
    "    for i,line in enumerate(program):\n",
    "        # decode line\n",
    "        instruction, value = line.split()\n",
    "        value = int(value.strip())\n",
    "        \n",
    "        # make an edit to this line\n",
    "        edited_program = program.copy()\n",
    "        if instruction == 'nop':\n",
    "            edited_program[i] = 'jmp' + line[3:]\n",
    "        elif instruction == 'jmp':\n",
    "            edited_program[i] = 'nop' + line[3:]\n",
    "        elif instruction == 'acc':\n",
    "            continue\n",
    "        else:\n",
    "            raise Exception('Bad program')\n",
    "            \n",
    "        # check if edit has fixed the program\n",
    "        if program_terminates(edited_program):\n",
    "            return edited_program\n",
    "        \n",
    "    raise Exception('Program unfixable')\n",
    "    \n",
    "\n",
    "def program_terminates(program):\n",
    "    \n",
    "    pc  = 0\n",
    "    visit_tracker = [False] * len(program) # track whether we have visited a line\n",
    "    visited_line = visit_tracker[pc]\n",
    "    \n",
    "    while not visited_line:\n",
    "        visit_tracker[pc] = True\n",
    "        \n",
    "        line = program[pc]\n",
    "        instruction, value = line.split()\n",
    "        value = int(value.strip())\n",
    "        \n",
    "        if instruction == 'nop' or instruction == 'acc':\n",
    "            pc += 1\n",
    "        elif instruction == 'jmp':\n",
    "            pc += value\n",
    "        else:\n",
    "            raise Exception('Bad program')\n",
    "        \n",
    "        if pc == len(program):\n",
    "            return True\n",
    "        else:\n",
    "            visited_line = visit_tracker[pc]\n",
    "        \n",
    "    return False\n",
    "    \n",
    "def run_program(program):\n",
    "    pc  = 0\n",
    "    acc = 0\n",
    "    \n",
    "    while pc < len(program):\n",
    "        \n",
    "        line = program[pc]\n",
    "        instruction, value = line.split()\n",
    "        value = int(value.strip())\n",
    "        \n",
    "        if instruction == 'nop':\n",
    "            pc += 1\n",
    "        elif instruction == 'jmp':\n",
    "            pc += value\n",
    "        elif instruction == 'acc':\n",
    "            acc += value\n",
    "            pc += 1\n",
    "        else:\n",
    "            raise Exception('Bad program')\n",
    "\n",
    "    return acc"
   ]
  },
  {
   "cell_type": "code",
   "execution_count": 134,
   "metadata": {},
   "outputs": [
    {
     "name": "stdout",
     "output_type": "stream",
     "text": [
      "The final value is 1403\n"
     ]
    }
   ],
   "source": [
    "fixed_program = fix_program(program)\n",
    "value = run_program(fixed_program)\n",
    "print('The final value is %s' % value)"
   ]
  }
 ],
 "metadata": {
  "kernelspec": {
   "display_name": "Python 3",
   "language": "python",
   "name": "python3"
  },
  "language_info": {
   "codemirror_mode": {
    "name": "ipython",
    "version": 3
   },
   "file_extension": ".py",
   "mimetype": "text/x-python",
   "name": "python",
   "nbconvert_exporter": "python",
   "pygments_lexer": "ipython3",
   "version": "3.7.6"
  }
 },
 "nbformat": 4,
 "nbformat_minor": 4
}
