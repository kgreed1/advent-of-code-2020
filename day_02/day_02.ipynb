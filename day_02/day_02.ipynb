{
 "cells": [
  {
   "cell_type": "code",
   "execution_count": 50,
   "metadata": {},
   "outputs": [],
   "source": [
    "with open('input.txt') as input_file:\n",
    "    input = list(input_file.readlines())"
   ]
  },
  {
   "cell_type": "markdown",
   "metadata": {},
   "source": [
    "## Part 1"
   ]
  },
  {
   "cell_type": "code",
   "execution_count": 51,
   "metadata": {},
   "outputs": [],
   "source": [
    "def complex_data_preprocessing(input):\n",
    "    processed_input = []\n",
    "    \n",
    "    for entry in input:\n",
    "        bounds,letter,password = entry.split()\n",
    "        \n",
    "        bounds = list(map(int, bounds.split('-')))\n",
    "        letter = letter[0]\n",
    "        \n",
    "        processed_input.append((bounds,letter,password))\n",
    "        \n",
    "    return processed_input"
   ]
  },
  {
   "cell_type": "code",
   "execution_count": 52,
   "metadata": {},
   "outputs": [
    {
     "data": {
      "text/plain": [
       "([2, 4], 'r', 'prrmspx')"
      ]
     },
     "execution_count": 52,
     "metadata": {},
     "output_type": "execute_result"
    }
   ],
   "source": [
    "input = complex_data_preprocessing(input)\n",
    "input[0]"
   ]
  },
  {
   "cell_type": "code",
   "execution_count": 61,
   "metadata": {},
   "outputs": [],
   "source": [
    "def assess_passwords_against_policy(input):\n",
    "    valid_password_count = 0\n",
    "    \n",
    "    for (lower_bound, upper_bound),letter,password in input:\n",
    "        letter_count = password.count(letter)\n",
    "        if letter_count >= lower_bound and letter_count <= upper_bound:\n",
    "            valid_password_count += 1\n",
    "            \n",
    "    return valid_password_count"
   ]
  },
  {
   "cell_type": "code",
   "execution_count": 62,
   "metadata": {},
   "outputs": [
    {
     "name": "stdout",
     "output_type": "stream",
     "text": [
      "There are 467 valid passwords\n"
     ]
    }
   ],
   "source": [
    "valid_password_count = assess_passwords_against_policy(input)\n",
    "print('There are %d valid passwords' % valid_password_count)"
   ]
  },
  {
   "cell_type": "markdown",
   "metadata": {},
   "source": [
    "## Part 2"
   ]
  },
  {
   "cell_type": "code",
   "execution_count": 63,
   "metadata": {},
   "outputs": [],
   "source": [
    "def assess_passwords_against_reinterpreted_policy(input):\n",
    "    valid_password_count = 0\n",
    "    \n",
    "    for (idx_a, idx_b),letter,password in input:\n",
    "        ltr_a = password[idx_a - 1]\n",
    "        ltr_b = password[idx_b - 1]\n",
    "        \n",
    "        ltr_a_match = (ltr_a == letter)\n",
    "        ltr_b_match = (ltr_b == letter)\n",
    "        \n",
    "        # exclusive or (XOR) is given by ^\n",
    "        # 0 0 0\n",
    "        # 1 0 1\n",
    "        # 0 1 1\n",
    "        # 1 1 0\n",
    "        if ltr_a_match ^ ltr_b_match:\n",
    "            valid_password_count += 1\n",
    "\n",
    "            \n",
    "    return valid_password_count"
   ]
  },
  {
   "cell_type": "code",
   "execution_count": 64,
   "metadata": {},
   "outputs": [
    {
     "name": "stdout",
     "output_type": "stream",
     "text": [
      "There are 441 valid passwords\n"
     ]
    }
   ],
   "source": [
    "valid_password_count = assess_passwords_against_reinterpreted_policy(input)\n",
    "print('There are %d valid passwords' % valid_password_count)"
   ]
  }
 ],
 "metadata": {
  "kernelspec": {
   "display_name": "Python 3",
   "language": "python",
   "name": "python3"
  },
  "language_info": {
   "codemirror_mode": {
    "name": "ipython",
    "version": 3
   },
   "file_extension": ".py",
   "mimetype": "text/x-python",
   "name": "python",
   "nbconvert_exporter": "python",
   "pygments_lexer": "ipython3",
   "version": "3.7.6"
  }
 },
 "nbformat": 4,
 "nbformat_minor": 4
}
