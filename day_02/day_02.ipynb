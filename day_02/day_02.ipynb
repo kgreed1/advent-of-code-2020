{
 "cells": [
  {
   "cell_type": "markdown",
   "metadata": {},
   "source": [
    "<main>\n",
    "<script>window.addEventListener('click', function(e,s,r){if(e.target.nodeName==='CODE'&&e.detail===3){s=window.getSelection();s.removeAllRanges();r=document.createRange();r.selectNodeContents(e.target);s.addRange(r);}});</script>\n",
    "<article class=\"day-desc\"><h2>--- Day 2: Password Philosophy ---</h2><p>Your flight departs in a few days from the coastal airport; the easiest way down to the coast from here is via <a href=\"https://en.wikipedia.org/wiki/Toboggan\" target=\"_blank\">toboggan</a>.</p>\n",
    "<p>The shopkeeper at the North Pole Toboggan Rental Shop is having a bad day. \"Something's wrong with our computers; we can't log in!\" You ask if you can take a look.</p>\n",
    "<p>Their password database seems to be a little corrupted: some of the passwords wouldn't have been allowed by the <span title=\"To ensure your safety, your password must be the following string...\">Official Toboggan Corporate Policy</span> that was in effect when they were chosen.</p>\n",
    "<p>To try to debug the problem, they have created a list (your puzzle input) of <em>passwords</em> (according to the corrupted database) and <em>the corporate policy when that password was set</em>.</p>\n",
    "<p>For example, suppose you have the following list:</p>\n",
    "<pre><code>1-3 a: abcde\n",
    "1-3 b: cdefg\n",
    "2-9 c: ccccccccc\n",
    "</code></pre>\n",
    "<p>Each line gives the password policy and then the password. The password policy indicates the lowest and highest number of times a given letter must appear for the password to be valid. For example, <code>1-3 a</code> means that the password must contain <code>a</code> at least <code>1</code> time and at most <code>3</code> times.</p>\n",
    "<p>In the above example, <code><em>2</em></code> passwords are valid. The middle password, <code>cdefg</code>, is not; it contains no instances of <code>b</code>, but needs at least <code>1</code>. The first and third passwords are valid: they contain one <code>a</code> or nine <code>c</code>, both within the limits of their respective policies.</p>\n",
    "<p><em>How many passwords are valid</em> according to their policies?</p>\n",
    "</article>\n",
    "<p>Your puzzle answer was <code>467</code>."
   ]
  },
  {
   "cell_type": "code",
   "execution_count": 50,
   "metadata": {},
   "outputs": [],
   "source": [
    "with open('input.txt') as input_file:\n",
    "    input = list(input_file.readlines())"
   ]
  },
  {
   "cell_type": "code",
   "execution_count": 51,
   "metadata": {},
   "outputs": [],
   "source": [
    "def complex_data_preprocessing(input):\n",
    "    processed_input = []\n",
    "    \n",
    "    for entry in input:\n",
    "        bounds,letter,password = entry.split()\n",
    "        \n",
    "        bounds = list(map(int, bounds.split('-')))\n",
    "        letter = letter[0]\n",
    "        \n",
    "        processed_input.append((bounds,letter,password))\n",
    "        \n",
    "    return processed_input"
   ]
  },
  {
   "cell_type": "code",
   "execution_count": 52,
   "metadata": {},
   "outputs": [
    {
     "data": {
      "text/plain": [
       "([2, 4], 'r', 'prrmspx')"
      ]
     },
     "execution_count": 52,
     "metadata": {},
     "output_type": "execute_result"
    }
   ],
   "source": [
    "input = complex_data_preprocessing(input)\n",
    "input[0]"
   ]
  },
  {
   "cell_type": "code",
   "execution_count": 61,
   "metadata": {},
   "outputs": [],
   "source": [
    "def assess_passwords_against_policy(input):\n",
    "    valid_password_count = 0\n",
    "    \n",
    "    for (lower_bound, upper_bound),letter,password in input:\n",
    "        letter_count = password.count(letter)\n",
    "        if letter_count >= lower_bound and letter_count <= upper_bound:\n",
    "            valid_password_count += 1\n",
    "            \n",
    "    return valid_password_count"
   ]
  },
  {
   "cell_type": "code",
   "execution_count": 62,
   "metadata": {},
   "outputs": [
    {
     "name": "stdout",
     "output_type": "stream",
     "text": [
      "There are 467 valid passwords\n"
     ]
    }
   ],
   "source": [
    "valid_password_count = assess_passwords_against_policy(input)\n",
    "print('There are %d valid passwords' % valid_password_count)"
   ]
  },
  {
   "cell_type": "markdown",
   "metadata": {},
   "source": [
    "</p><article class=\"day-desc\"><h2 id=\"part2\">--- Part Two ---</h2><p>While it appears you validated the passwords correctly, they don't seem to be what the Official Toboggan Corporate Authentication System is expecting.</p>\n",
    "<p>The shopkeeper suddenly realizes that he just accidentally explained the password policy rules from his old job at the sled rental place down the street! The Official Toboggan Corporate Policy actually works a little differently.</p>\n",
    "<p>Each policy actually describes two <em>positions in the password</em>, where <code>1</code> means the first character, <code>2</code> means the second character, and so on. (Be careful; Toboggan Corporate Policies have no concept of \"index zero\"!) <em>Exactly one of these positions</em> must contain the given letter. Other occurrences of the letter are irrelevant for the purposes of policy enforcement.</p>\n",
    "<p>Given the same example list from above:</p>\n",
    "<ul>\n",
    "<li><code>1-3 a: <em>a</em>b<em>c</em>de</code> is <em>valid</em>: position <code>1</code> contains <code>a</code> and position <code>3</code> does not.</li>\n",
    "<li><code>1-3 b: <em>c</em>d<em>e</em>fg</code> is <em>invalid</em>: neither position <code>1</code> nor position <code>3</code> contains <code>b</code>.</li>\n",
    "<li><code>2-9 c: c<em>c</em>cccccc<em>c</em></code> is <em>invalid</em>: both position <code>2</code> and position <code>9</code> contain <code>c</code>.</li>\n",
    "</ul>\n",
    "<p><em>How many passwords are valid</em> according to the new interpretation of the policies?</em></p>\n",
    "</article>\n",
    "<p>Your puzzle answer was <code>441</code>.</p><p class=\"day-success\">Both parts of this puzzle are complete! They provide two gold stars: **</p>"
   ]
  },
  {
   "cell_type": "code",
   "execution_count": 63,
   "metadata": {},
   "outputs": [],
   "source": [
    "def assess_passwords_against_reinterpreted_policy(input):\n",
    "    valid_password_count = 0\n",
    "    \n",
    "    for (idx_a, idx_b),letter,password in input:\n",
    "        ltr_a = password[idx_a - 1]\n",
    "        ltr_b = password[idx_b - 1]\n",
    "        \n",
    "        ltr_a_match = (ltr_a == letter)\n",
    "        ltr_b_match = (ltr_b == letter)\n",
    "        \n",
    "        # exclusive or (XOR) is given by ^\n",
    "        # 0 0 0\n",
    "        # 1 0 1\n",
    "        # 0 1 1\n",
    "        # 1 1 0\n",
    "        if ltr_a_match ^ ltr_b_match:\n",
    "            valid_password_count += 1\n",
    "\n",
    "            \n",
    "    return valid_password_count"
   ]
  },
  {
   "cell_type": "code",
   "execution_count": 64,
   "metadata": {},
   "outputs": [
    {
     "name": "stdout",
     "output_type": "stream",
     "text": [
      "There are 441 valid passwords\n"
     ]
    }
   ],
   "source": [
    "valid_password_count = assess_passwords_against_reinterpreted_policy(input)\n",
    "print('There are %d valid passwords' % valid_password_count)"
   ]
  }
 ],
 "metadata": {
  "kernelspec": {
   "display_name": "Python 3",
   "language": "python",
   "name": "python3"
  },
  "language_info": {
   "codemirror_mode": {
    "name": "ipython",
    "version": 3
   },
   "file_extension": ".py",
   "mimetype": "text/x-python",
   "name": "python",
   "nbconvert_exporter": "python",
   "pygments_lexer": "ipython3",
   "version": "3.7.6"
  }
 },
 "nbformat": 4,
 "nbformat_minor": 4
}
