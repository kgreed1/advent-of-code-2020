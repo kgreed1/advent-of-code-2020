{
 "cells": [
  {
   "cell_type": "markdown",
   "metadata": {},
   "source": [
    "<main>\n",
    "<script>window.addEventListener('click', function(e,s,r){if(e.target.nodeName==='CODE'&&e.detail===3){s=window.getSelection();s.removeAllRanges();r=document.createRange();r.selectNodeContents(e.target);s.addRange(r);}});</script>\n",
    "<article class=\"day-desc\"><h2>--- Day 6: Custom Customs ---</h2><p>As your flight approaches the regional airport where you'll switch to a much larger plane, <a href=\"https://en.wikipedia.org/wiki/Customs_declaration\" target=\"_blank\">customs declaration forms</a> are distributed to the passengers.</p>\n",
    "<p>The form asks a series of 26 yes-or-no questions marked <code>a</code> through <code>z</code>. All you need to do is identify the questions for which <em>anyone in your group</em> answers \"yes\". Since your group is just you, this doesn't take very long.</p>\n",
    "<p>However, the person sitting next to you seems to be experiencing a language barrier and asks if you can help. For each of the people in their group, you write down the questions for which they answer \"yes\", one per line.  For example:</p>\n",
    "<pre><code>abcx\n",
    "abcy\n",
    "abcz\n",
    "</code></pre>\n",
    "<p>In this group, there are <em><code>6</code></em> questions to which anyone answered \"yes\": <code>a</code>, <code>b</code>, <code>c</code>, <code>x</code>, <code>y</code>, and <code>z</code>. (Duplicate answers to the same question don't count extra; each question counts at most once.)</p>\n",
    "<p>Another group asks for your help, then another, and eventually you've collected answers from every group on the plane (your puzzle input). Each group's answers are separated by a blank line, and within each group, each person's answers are on a single line. For example:</p>\n",
    "<pre><code>abc\n",
    "\n",
    "a\n",
    "b\n",
    "c\n",
    "\n",
    "ab\n",
    "ac\n",
    "\n",
    "a\n",
    "a\n",
    "a\n",
    "a\n",
    "\n",
    "b\n",
    "</code></pre>\n",
    "<p>This list represents answers from five groups:</p>\n",
    "<ul>\n",
    "<li>The first group contains one person who answered \"yes\" to <em><code>3</code></em> questions: <code>a</code>, <code>b</code>, and <code>c</code>.</li>\n",
    "<li>The second group contains three people; combined, they answered \"yes\" to <em><code>3</code></em> questions: <code>a</code>, <code>b</code>, and <code>c</code>.</li>\n",
    "<li>The third group contains two people; combined, they answered \"yes\" to <em><code>3</code></em> questions: <code>a</code>, <code>b</code>, and <code>c</code>.</li>\n",
    "<li>The fourth group contains four people; combined, they answered \"yes\" to only <em><code>1</code></em> question, <code>a</code>.</li>\n",
    "<li>The last group contains one person who answered \"yes\" to only <em><code>1</code></em> question, <code>b</code>.</li>\n",
    "</ul>\n",
    "<p>In this example, the sum of these counts is <code>3 + 3 + 3 + 1 + 1</code> = <em><code>11</code></em>.</p>\n",
    "<p>For each group, count the number of questions to which anyone answered \"yes\". <em>What is the sum of those counts?</em></p>\n",
    "</article>\n",
    "<p>Your puzzle answer was <code>7128</code>."
   ]
  },
  {
   "cell_type": "code",
   "execution_count": 2,
   "metadata": {},
   "outputs": [],
   "source": [
    "with open('input.txt') as input_file:\n",
    "    groups = input_file.read().split('\\n\\n')"
   ]
  },
  {
   "cell_type": "code",
   "execution_count": 19,
   "metadata": {},
   "outputs": [],
   "source": [
    "def get_unique_answers(group):\n",
    "    #remove all whitespace characters to just get all provided answers as a list of characters\n",
    "    all_answers = list(''.join(group.split()))\n",
    "    unique_answers = set(all_answers)\n",
    "    return len(unique_answers)"
   ]
  },
  {
   "cell_type": "code",
   "execution_count": 20,
   "metadata": {},
   "outputs": [
    {
     "name": "stdout",
     "output_type": "stream",
     "text": [
      "Sum of counts is 7128\n"
     ]
    }
   ],
   "source": [
    "sum_of_groups = 0\n",
    "for group in groups:\n",
    "    sum_of_groups += get_unique_answers(group)\n",
    "\n",
    "print('Sum of counts is %d' % sum_of_groups)"
   ]
  },
  {
   "cell_type": "markdown",
   "metadata": {},
   "source": [
    "</p><article class=\"day-desc\"><h2 id=\"part2\">--- Part Two ---</h2><p>As you finish the last group's customs declaration, you notice that <span title=\"Don't worry, nobody ever misreads just one word in real life.\">you misread one word</span> in the instructions:</p>\n",
    "<p>You don't need to identify the questions to which <em>anyone</em> answered \"yes\"; you need to identify the questions to which <em>everyone</em> answered \"yes\"!</p>\n",
    "<p>Using the same  example as above:</p>\n",
    "<pre><code>abc\n",
    "\n",
    "a\n",
    "b\n",
    "c\n",
    "\n",
    "ab\n",
    "ac\n",
    "\n",
    "a\n",
    "a\n",
    "a\n",
    "a\n",
    "\n",
    "b\n",
    "</code></pre>\n",
    "<p>This list represents answers from five groups:</p>\n",
    "<ul>\n",
    "<li>In the first group, everyone (all 1 person) answered \"yes\" to <em><code>3</code></em> questions: <code>a</code>, <code>b</code>, and <code>c</code>.</li>\n",
    "<li>In the second group, there is <em>no</em> question to which everyone answered \"yes\".</li>\n",
    "<li>In the third group, everyone answered yes to only <em><code>1</code></em> question, <code>a</code>. Since some people did not answer \"yes\" to <code>b</code> or <code>c</code>, they don't count.</li>\n",
    "<li>In the fourth group, everyone answered yes to only <em><code>1</code></em> question, <code>a</code>.</li>\n",
    "<li>In the fifth group, everyone (all 1 person) answered \"yes\" to <em><code>1</code></em> question, <code>b</code>.</li>\n",
    "</ul>\n",
    "<p>In this example, the sum of these counts is <code>3 + 0 + 1 + 1 + 1</code> = <em><code>6</code></em>.</p>\n",
    "<p>For each group, count the number of questions to which <em>everyone</em> answered \"yes\". <em>What is the sum of those counts?</em></p>\n",
    "</article>\n",
    "<p>Your puzzle answer was <code>3640</code>.</p><p class=\"day-success\">Both parts of this puzzle are complete! They provide two gold stars: **</p>"
   ]
  },
  {
   "cell_type": "code",
   "execution_count": 47,
   "metadata": {},
   "outputs": [],
   "source": [
    "def get_common_answers(group):\n",
    "    group = group.strip().split('\\n')\n",
    "    individual_answers = [set(list(person)) for person in group]\n",
    "    common_answers = set.intersection(*individual_answers)\n",
    "    return len(common_answers)"
   ]
  },
  {
   "cell_type": "code",
   "execution_count": 48,
   "metadata": {},
   "outputs": [
    {
     "name": "stdout",
     "output_type": "stream",
     "text": [
      "Sum of counts is 3640\n"
     ]
    }
   ],
   "source": [
    "sum_of_groups = 0\n",
    "for group in groups:\n",
    "    sum_of_groups += get_common_answers(group)\n",
    "\n",
    "print('Sum of counts is %d' % sum_of_groups)"
   ]
  }
 ],
 "metadata": {
  "kernelspec": {
   "display_name": "Python 3",
   "language": "python",
   "name": "python3"
  },
  "language_info": {
   "codemirror_mode": {
    "name": "ipython",
    "version": 3
   },
   "file_extension": ".py",
   "mimetype": "text/x-python",
   "name": "python",
   "nbconvert_exporter": "python",
   "pygments_lexer": "ipython3",
   "version": "3.7.6"
  }
 },
 "nbformat": 4,
 "nbformat_minor": 4
}
