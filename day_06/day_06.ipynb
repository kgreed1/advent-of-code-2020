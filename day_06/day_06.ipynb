{
 "cells": [
  {
   "cell_type": "code",
   "execution_count": 2,
   "metadata": {},
   "outputs": [],
   "source": [
    "with open('input.txt') as input_file:\n",
    "    groups = input_file.read().split('\\n\\n')"
   ]
  },
  {
   "cell_type": "markdown",
   "metadata": {},
   "source": [
    "## Part 1"
   ]
  },
  {
   "cell_type": "code",
   "execution_count": 19,
   "metadata": {},
   "outputs": [],
   "source": [
    "def get_unique_answers(group):\n",
    "    #remove all whitespace characters to just get all provided answers as a string\n",
    "    all_answers = list(''.join(group.split()))\n",
    "    unique_answers = set(all_answers)\n",
    "    return len(unique_answers)"
   ]
  },
  {
   "cell_type": "code",
   "execution_count": 20,
   "metadata": {},
   "outputs": [
    {
     "name": "stdout",
     "output_type": "stream",
     "text": [
      "Sum of counts is 7128\n"
     ]
    }
   ],
   "source": [
    "sum_of_groups = 0\n",
    "for group in groups:\n",
    "    sum_of_groups += get_unique_answers(group)\n",
    "\n",
    "print('Sum of counts is %d' % sum_of_groups)"
   ]
  },
  {
   "cell_type": "markdown",
   "metadata": {},
   "source": [
    "## Part 2"
   ]
  },
  {
   "cell_type": "code",
   "execution_count": 43,
   "metadata": {},
   "outputs": [],
   "source": [
    "def get_common_answers(group):\n",
    "    individual_answers = [set(list(person)) for person in group.strip().split('\\n')]\n",
    "    common_answers = set.intersection(*individual_answers)\n",
    "    return len(common_answers)"
   ]
  },
  {
   "cell_type": "code",
   "execution_count": 44,
   "metadata": {},
   "outputs": [
    {
     "name": "stdout",
     "output_type": "stream",
     "text": [
      "Sum of counts is 3640\n"
     ]
    }
   ],
   "source": [
    "sum_of_groups = 0\n",
    "for group in groups:\n",
    "    sum_of_groups += get_common_answers(group)\n",
    "\n",
    "print('Sum of counts is %d' % sum_of_groups)"
   ]
  }
 ],
 "metadata": {
  "kernelspec": {
   "display_name": "Python 3",
   "language": "python",
   "name": "python3"
  },
  "language_info": {
   "codemirror_mode": {
    "name": "ipython",
    "version": 3
   },
   "file_extension": ".py",
   "mimetype": "text/x-python",
   "name": "python",
   "nbconvert_exporter": "python",
   "pygments_lexer": "ipython3",
   "version": "3.7.6"
  }
 },
 "nbformat": 4,
 "nbformat_minor": 4
}
