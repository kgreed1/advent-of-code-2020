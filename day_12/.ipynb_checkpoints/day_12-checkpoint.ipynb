{
 "cells": [
  {
   "cell_type": "markdown",
   "metadata": {},
   "source": [
    "<main>\n",
    "<script>window.addEventListener('click', function(e,s,r){if(e.target.nodeName==='CODE'&&e.detail===3){s=window.getSelection();s.removeAllRanges();r=document.createRange();r.selectNodeContents(e.target);s.addRange(r);}});</script>\n",
    "<article class=\"day-desc\"><h2>--- Day 12: Rain Risk ---</h2><p>Your ferry made decent progress toward the island, but the storm came in <span title=\"At least it wasn't a Category Six!\">faster than anyone expected</span>. The ferry needs to take <em>evasive actions</em>!</p>\n",
    "<p>Unfortunately, the ship's navigation computer seems to be malfunctioning; rather than giving a route directly to safety, it produced extremely circuitous instructions. When the captain uses the <a href=\"https://en.wikipedia.org/wiki/Public_address_system\" target=\"_blank\">PA system</a> to ask if anyone can help, you quickly volunteer.</p>\n",
    "<p>The navigation instructions (your puzzle input) consists of a sequence of single-character <em>actions</em> paired with integer input <em>values</em>. After staring at them for a few minutes, you work out what they probably mean:</p>\n",
    "<ul>\n",
    "<li>Action <em><code>N</code></em> means to move <em>north</em> by the given value.</li>\n",
    "<li>Action <em><code>S</code></em> means to move <em>south</em> by the given value.</li>\n",
    "<li>Action <em><code>E</code></em> means to move <em>east</em> by the given value.</li>\n",
    "<li>Action <em><code>W</code></em> means to move <em>west</em> by the given value.</li>\n",
    "<li>Action <em><code>L</code></em> means to turn <em>left</em> the given number of degrees.</li>\n",
    "<li>Action <em><code>R</code></em> means to turn <em>right</em> the given number of degrees.</li>\n",
    "<li>Action <em><code>F</code></em> means to move <em>forward</em> by the given value in the direction the ship is currently facing.</li>\n",
    "</ul>\n",
    "<p>The ship starts by facing <em>east</em>. Only the <code>L</code> and <code>R</code> actions change the direction the ship is facing. (That is, if the ship is facing east and the next instruction is <code>N10</code>, the ship would move north 10 units, but would still move east if the following action were <code>F</code>.)</p>\n",
    "<p>For example:</p>\n",
    "<pre><code>F10\n",
    "N3\n",
    "F7\n",
    "R90\n",
    "F11\n",
    "</code></pre>\n",
    "<p>These instructions would be handled as follows:</p>\n",
    "<ul>\n",
    "<li><code>F10</code> would move the ship 10 units east (because the ship starts by facing east) to <em>east 10, north 0</em>.</li>\n",
    "<li><code>N3</code> would move the ship 3 units north to <em>east 10, north 3</em>.</li>\n",
    "<li><code>F7</code> would move the ship another 7 units east (because the ship is still facing east) to <em>east 17, north 3</em>.</li>\n",
    "<li><code>R90</code> would cause the ship to turn right by 90 degrees and face <em>south</em>; it remains at <em>east 17, north 3</em>.</li>\n",
    "<li><code>F11</code> would move the ship 11 units south to <em>east 17, south 8</em>.</li>\n",
    "</ul>\n",
    "<p>At the end of these instructions, the ship's <a href=\"https://en.wikipedia.org/wiki/Manhattan_distance\" target=\"_blank\">Manhattan distance</a> (sum of the absolute values of its east/west position and its north/south position) from its starting position is <code>17 + 8</code> = <em><code>25</code></em>.</p>\n",
    "<p>Figure out where the navigation instructions lead. <em>What is the Manhattan distance between that location and the ship's starting position?</em></p>\n",
    "</article>\n",
    "<p>Your puzzle answer was <code>562</code>.</p><p class=\"day-success\">The first half of this puzzle is complete! It provides one gold star: *</p>"
   ]
  },
  {
   "cell_type": "code",
   "execution_count": 185,
   "metadata": {},
   "outputs": [],
   "source": [
    "with open('input.txt') as input_file:\n",
    "    instructions = input_file.read().strip().split('\\n')"
   ]
  },
  {
   "cell_type": "code",
   "execution_count": 233,
   "metadata": {},
   "outputs": [],
   "source": [
    "class Ship:\n",
    "    def __init__(self, position=[0,0], orientation='E'):\n",
    "        self.position = position\n",
    "        self.orientation = orientation\n",
    "        \n",
    "    def decode_instruction(self, instruction):\n",
    "        return instruction[0],int(instruction[1:])\n",
    "    \n",
    "    def follow_instruction(self,instruction):\n",
    "        direction,value = self.decode_instruction(instruction)\n",
    "        \n",
    "        movement = [0,0]\n",
    "        \n",
    "        if direction == 'F':\n",
    "            direction = self.orientation\n",
    "        \n",
    "        if direction == 'N':\n",
    "            movement[1] += value\n",
    "        elif direction == 'E':\n",
    "            movement[0] += value\n",
    "        elif direction == 'S':\n",
    "            movement[1] -= value\n",
    "        elif direction == 'W':\n",
    "            movement[0] -= value\n",
    "            \n",
    "        self.position = list(map(lambda i, j: i + j, self.position, movement))\n",
    "                \n",
    "        poles = ['N','E','S','W']\n",
    "        i = poles.index(self.orientation)\n",
    "        shift = int(value / 90)\n",
    "        if direction == 'R':\n",
    "            i = (i + shift) % 4\n",
    "        elif direction == 'L':\n",
    "            i = (i - shift) % 4\n",
    "        self.orientation = poles[i]\n",
    "        \n",
    "    def navigate_instructions(self, instructions):\n",
    "        for instruction in instructions:\n",
    "            self.follow_instruction(instruction)\n",
    "            \n",
    "    def manhattan_distance(self, instructions):\n",
    "        start = self.position.copy()\n",
    "        self.navigate_instructions(instructions)\n",
    "        finish = self.position\n",
    "        return abs(start[0]-finish[0]) + abs(start[1]-finish[1])"
   ]
  },
  {
   "cell_type": "code",
   "execution_count": 234,
   "metadata": {},
   "outputs": [
    {
     "name": "stdout",
     "output_type": "stream",
     "text": [
      "The Manhattan distance between the two locations is 562\n"
     ]
    }
   ],
   "source": [
    "ship = Ship()\n",
    "m_d = ship.manhattan_distance(instructions)\n",
    "print('The Manhattan distance between the two locations is %d' % m_d)"
   ]
  },
  {
   "cell_type": "markdown",
   "metadata": {},
   "source": [
    "<article class=\"day-desc\"><h2 id=\"part2\">--- Part Two ---</h2><p>Before you can give the destination to the captain, you realize that the actual action meanings were printed on the back of the instructions the whole time.</p>\n",
    "<p>Almost all of the actions indicate how to move a <em>waypoint</em> which is relative to the ship's position:</p>\n",
    "<ul>\n",
    "<li>Action <em><code>N</code></em> means to move the waypoint <em>north</em> by the given value.</li>\n",
    "<li>Action <em><code>S</code></em> means to move the waypoint <em>south</em> by the given value.</li>\n",
    "<li>Action <em><code>E</code></em> means to move the waypoint <em>east</em> by the given value.</li>\n",
    "<li>Action <em><code>W</code></em> means to move the waypoint <em>west</em> by the given value.</li>\n",
    "<li>Action <em><code>L</code></em> means to rotate the waypoint around the ship <em>left</em> (<em>counter-clockwise</em>) the given number of degrees.</li>\n",
    "<li>Action <em><code>R</code></em> means to rotate the waypoint around the ship <em>right</em> (<em>clockwise</em>) the given number of degrees.</li>\n",
    "<li>Action <em><code>F</code></em> means to move <em>forward</em> to the waypoint a number of times equal to the given value.</li>\n",
    "</ul>\n",
    "<p>The waypoint starts <em>10 units east and 1 unit north</em> relative to the ship. The waypoint is relative to the ship; that is, if the ship moves, the waypoint moves with it.</p>\n",
    "<p>For example, using the same instructions as above:</p>\n",
    "<ul>\n",
    "<li><code>F10</code> moves the ship to the waypoint 10 times (a total of <em>100 units east and 10 units north</em>), leaving the ship at <em>east 100, north 10</em>. The waypoint stays 10 units east and 1 unit north of the ship.</li>\n",
    "<li><code>N3</code> moves the waypoint 3 units north to <em>10 units east and 4 units north of the ship</em>. The ship remains at <em>east 100, north 10</em>.</li>\n",
    "<li><code>F7</code> moves the ship to the waypoint 7 times (a total of <em>70 units east and 28 units north</em>), leaving the ship at <em>east 170, north 38</em>. The waypoint stays 10 units east and 4 units north of the ship.</li>\n",
    "<li><code>R90</code> rotates the waypoint around the ship clockwise 90 degrees, moving it to <em>4 units east and 10 units south of the ship</em>. The ship remains at <em>east 170, north 38</em>.</li>\n",
    "<li><code>F11</code> moves the ship to the waypoint 11 times (a total of <em>44 units east and 110 units south</em>), leaving the ship at <em>east 214, south 72</em>. The waypoint stays 4 units east and 10 units south of the ship.</li>\n",
    "</ul>\n",
    "<p>After these operations, the ship's Manhattan distance from its starting position is <code>214 + 72</code> = <em><code>286</code></em>.</p>\n",
    "<p>Figure out where the navigation instructions actually lead. <em>What is the Manhattan distance between that location and the ship's starting position?</em></p>\n",
    "</article>\n",
    "<p>Your puzzle answer was <code>101860</code>.</p><p class=\"day-success\">Both parts of this puzzle are complete! They provide two gold stars: **</p>"
   ]
  },
  {
   "cell_type": "code",
   "execution_count": 235,
   "metadata": {},
   "outputs": [],
   "source": [
    "import math\n",
    "\n",
    "class WaypointShip(Ship):\n",
    "    def __init__(self,position=[0,0],wp=[10,1]):\n",
    "        super().__init__()\n",
    "        self.wp = wp\n",
    "        \n",
    "    def follow_instruction(self,instruction):\n",
    "        direction,value = self.decode_instruction(instruction)\n",
    "        \n",
    "        # Moving the ship\n",
    "        if direction == 'F':\n",
    "            self.position[0] += self.wp[0] * value\n",
    "            self.position[1] += self.wp[1] * value\n",
    "        \n",
    "        # Moving the waypoint\n",
    "        if direction == 'N':\n",
    "            self.wp[1] += value\n",
    "        elif direction == 'E':\n",
    "            self.wp[0] += value\n",
    "        elif direction == 'S':\n",
    "            self.wp[1] -= value\n",
    "        elif direction == 'W':\n",
    "            self.wp[0] -= value            \n",
    "                                    \n",
    "        # Rotating the waypoint\n",
    "        if direction == 'L' or direction == 'R':\n",
    "            self.wp = rotate(self.wp, instruction)\n",
    "    \n",
    "    def rotate(self,deg):\n",
    "        rotations = { \n",
    "            \"R90\": [[0, 1], [-1, 0]],  \"R180\": [[-1, 0], [0, -1]], \"R270\": [[0,-1], [1,0]],\n",
    "            \"L90\": [[0,-1], [1,0]], \"L180\": [[-1, 0], [0, -1]], \"L270\": [[0, 1], [-1, 0]]\n",
    "        }    \n",
    "        r = rotations[deg]\n",
    "        x, y = self.wp\n",
    "        return [x*r[0][0] + y*r[0][1], x*r[1][0] + y*r[1][1]]\n",
    "    \n",
    "    def navigate_instructions(self, instructions):\n",
    "        for instruction in instructions:\n",
    "            self.follow_instruction(instruction)"
   ]
  },
  {
   "cell_type": "code",
   "execution_count": 236,
   "metadata": {},
   "outputs": [
    {
     "name": "stdout",
     "output_type": "stream",
     "text": [
      "The Manhattan distance between the two locations is 101860\n"
     ]
    }
   ],
   "source": [
    "ship = WaypointShip()\n",
    "m_d = ship.manhattan_distance(instructions)\n",
    "print('The Manhattan distance between the two locations is %d' % m_d)"
   ]
  }
 ],
 "metadata": {
  "kernelspec": {
   "display_name": "Python 3",
   "language": "python",
   "name": "python3"
  },
  "language_info": {
   "codemirror_mode": {
    "name": "ipython",
    "version": 3
   },
   "file_extension": ".py",
   "mimetype": "text/x-python",
   "name": "python",
   "nbconvert_exporter": "python",
   "pygments_lexer": "ipython3",
   "version": "3.7.6"
  }
 },
 "nbformat": 4,
 "nbformat_minor": 4
}
