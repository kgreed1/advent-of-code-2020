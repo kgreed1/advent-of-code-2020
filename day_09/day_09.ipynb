{
 "cells": [
  {
   "cell_type": "markdown",
   "metadata": {},
   "source": [
    "<main>\n",
    "<script>window.addEventListener('click', function(e,s,r){if(e.target.nodeName==='CODE'&&e.detail===3){s=window.getSelection();s.removeAllRanges();r=document.createRange();r.selectNodeContents(e.target);s.addRange(r);}});</script>\n",
    "<article class=\"day-desc\"><h2>--- Day 9: Encoding Error ---</h2><p>With your neighbor happily enjoying their video game, you turn your attention to an open data port on the little screen in the seat in front of you.</p>\n",
    "<p>Though the port is non-standard, you manage to connect it to your computer through the clever use of several paperclips. Upon connection, the port outputs a series of numbers (your puzzle input).</p>\n",
    "<p>The data appears to be encrypted with the eXchange-Masking Addition System (<span title=\"No relation.\">XMAS</span>) which, conveniently for you, is an old cypher with an important weakness.</p>\n",
    "<p>XMAS starts by transmitting a <em>preamble</em> of 25 numbers. After that, each number you receive should be the sum of any two of the 25 immediately previous numbers. The two numbers will have different values, and there might be more than one such pair.</p>\n",
    "<p>For example, suppose your preamble consists of the numbers <code>1</code> through <code>25</code> in a random order. To be valid, the next number must be the sum of two of those numbers:</p>\n",
    "<ul>\n",
    "<li><code>26</code> would be a <em>valid</em> next number, as it could be <code>1</code> plus <code>25</code> (or many other pairs, like <code>2</code> and <code>24</code>).</li>\n",
    "<li><code>49</code> would be a <em>valid</em> next number, as it is the sum of <code>24</code> and <code>25</code>.</li>\n",
    "<li><code>100</code> would <em>not</em> be valid; no two of the previous 25 numbers sum to <code>100</code>.</li>\n",
    "<li><code>50</code> would also <em>not</em> be valid; although <code>25</code> appears in the previous 25 numbers, the two numbers in the pair must be different.</li>\n",
    "</ul>\n",
    "<p>Suppose the 26th number is <code>45</code>, and the first number (no longer an option, as it is more than 25 numbers ago) was <code>20</code>. Now, for the next number to be valid, there needs to be some pair of numbers among <code>1</code>-<code>19</code>, <code>21</code>-<code>25</code>, or <code>45</code> that add up to it:</p>\n",
    "<ul>\n",
    "<li><code>26</code> would still be a <em>valid</em> next number, as <code>1</code> and <code>25</code> are still within the previous 25 numbers.</li>\n",
    "<li><code>65</code> would <em>not</em> be valid, as no two of the available numbers sum to it.</li>\n",
    "<li><code>64</code> and <code>66</code> would both be <em>valid</em>, as they are the result of <code>19+45</code> and <code>21+45</code> respectively.</li>\n",
    "</ul>\n",
    "<p>Here is a larger example which only considers the previous <em>5</em> numbers (and has a preamble of length 5):</p>\n",
    "<pre><code>35\n",
    "20\n",
    "15\n",
    "25\n",
    "47\n",
    "40\n",
    "62\n",
    "55\n",
    "65\n",
    "95\n",
    "102\n",
    "117\n",
    "150\n",
    "182\n",
    "127\n",
    "219\n",
    "299\n",
    "277\n",
    "309\n",
    "576\n",
    "</code></pre>\n",
    "<p>In this example, after the 5-number preamble, almost every number is the sum of two of the previous 5 numbers; the only number that does not follow this rule is <em><code>127</code></em>.</p>\n",
    "<p>The first step of attacking the weakness in the XMAS data is to find the first number in the list (after the preamble) which is <em>not</em> the sum of two of the 25 numbers before it. <em>What is the first number that does not have this property?</em></p>\n",
    "</article>\n",
    "<p>Your puzzle answer was <code>41682220</code>."
   ]
  },
  {
   "cell_type": "code",
   "execution_count": 25,
   "metadata": {},
   "outputs": [],
   "source": [
    "with open('input.txt') as input_file:\n",
    "    numbers = list(map(int, input_file.readlines()))"
   ]
  },
  {
   "cell_type": "code",
   "execution_count": 26,
   "metadata": {},
   "outputs": [],
   "source": [
    "def check_sum_in_list(nums, target):\n",
    "    for i in range(len(nums)):\n",
    "        for j in range(i+1, len(nums)):\n",
    "            if nums[i] + nums[j] == target:\n",
    "                return True\n",
    "    return False\n",
    "\n",
    "def find_weakness(data, preamble_size):\n",
    "    preamble = data[:preamble_size]\n",
    "    \n",
    "    for i,target in enumerate(data[preamble_size:]):\n",
    "        preamble = data[i:preamble_size + i]\n",
    "        \n",
    "        if check_sum_in_list(preamble, target):\n",
    "            continue\n",
    "        else:\n",
    "            return target"
   ]
  },
  {
   "cell_type": "code",
   "execution_count": 27,
   "metadata": {},
   "outputs": [
    {
     "name": "stdout",
     "output_type": "stream",
     "text": [
      "The first sum that breaks the property is 41682220\n"
     ]
    }
   ],
   "source": [
    "weakness = find_weakness(numbers,25)\n",
    "print('The first sum that breaks the property is % s' % weakness)"
   ]
  },
  {
   "cell_type": "markdown",
   "metadata": {},
   "source": [
    "</p><article class=\"day-desc\"><h2 id=\"part2\">--- Part Two ---</h2><p>The final step in breaking the XMAS encryption relies on the invalid number you just found: you must <em>find a contiguous set of at least two numbers</em> in your list which sum to the invalid number from step 1.</p>\n",
    "<p>Again consider the above example:</p>\n",
    "<pre><code>35\n",
    "20\n",
    "<em>15</em>\n",
    "<em>25</em>\n",
    "<em>47</em>\n",
    "<em>40</em>\n",
    "62\n",
    "55\n",
    "65\n",
    "95\n",
    "102\n",
    "117\n",
    "150\n",
    "182\n",
    "127\n",
    "219\n",
    "299\n",
    "277\n",
    "309\n",
    "576\n",
    "</code></pre>\n",
    "<p>In this list, adding up all of the numbers from <code>15</code> through <code>40</code> produces the invalid number from step 1, <code>127</code>. (Of course, the contiguous set of numbers in your actual list might be much longer.)</p>\n",
    "<p>To find the <em>encryption weakness</em>, add together the <em>smallest</em> and <em>largest</em> number in this contiguous range; in this example, these are <code>15</code> and <code>47</code>, producing <em><code>62</code></em>.</p>\n",
    "<p><em>What is the encryption weakness in your XMAS-encrypted list of numbers?</em></p>\n",
    "</article>\n",
    "<p>Your puzzle answer was <code>5388976</code>.</p><p class=\"day-success\">Both parts of this puzzle are complete! They provide two gold stars: **</p>"
   ]
  },
  {
   "cell_type": "code",
   "execution_count": 28,
   "metadata": {},
   "outputs": [],
   "source": [
    "def find_contiguous_set(nums, target):\n",
    "    for i in range(len(nums)):\n",
    "        for j in range(i+1, len(nums)):\n",
    "            set_sum = sum(nums[i:j])\n",
    "            if set_sum < target:\n",
    "                continuehttps://adventofcode.com/2020\n",
    "            elif set_sum == target:\n",
    "                return nums[i:j]\n",
    "            else:\n",
    "                break\n",
    "    raise Exception('No such set exists')"
   ]
  },
  {
   "cell_type": "code",
   "execution_count": 33,
   "metadata": {},
   "outputs": [
    {
     "name": "stdout",
     "output_type": "stream",
     "text": [
      "The encryption weakness is 5388976\n"
     ]
    }
   ],
   "source": [
    "contiguous_set = find_contiguous_set(numbers,weakness)\n",
    "contiguous_set.sort()\n",
    "encryption_weakness = contiguous_set[0] + contiguous_set[-1]\n",
    "print('The encryption weakness is %s' % encryption_weakness)"
   ]
  }
 ],
 "metadata": {
  "kernelspec": {
   "display_name": "Python 3",
   "language": "python",
   "name": "python3"
  },
  "language_info": {
   "codemirror_mode": {
    "name": "ipython",
    "version": 3
   },
   "file_extension": ".py",
   "mimetype": "text/x-python",
   "name": "python",
   "nbconvert_exporter": "python",
   "pygments_lexer": "ipython3",
   "version": "3.7.6"
  }
 },
 "nbformat": 4,
 "nbformat_minor": 4
}
